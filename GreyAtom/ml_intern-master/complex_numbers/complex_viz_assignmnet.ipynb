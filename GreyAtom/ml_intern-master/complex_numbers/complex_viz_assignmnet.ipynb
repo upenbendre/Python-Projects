{
 "cells": [
  {
   "cell_type": "markdown",
   "metadata": {},
   "source": [
    "# Task: Making `Complex_Numbers` Package:"
   ]
  },
  {
   "cell_type": "markdown",
   "metadata": {},
   "source": [
    "Note:\n",
    "\n",
    "* You are not allowed to use any internal `complex number` library or a python package that handle complex numbers.\n",
    "* You can use other internal libraries if you like.\n",
    "\n",
    "Define a class called `complex_number` which accepts 2 parameters:\n",
    "\n",
    "* x: int64, float64, represents real component of the complex number\n",
    "* y: int64, float64, represents imaginary component of the complex number\n",
    "\n",
    "Example, `complex_number(3, 5)` means 3 is the real part of the complex number and 5 is the imaginary part of the complex number. Such a number is represented as 3 + 5i.\n",
    "\n",
    "Here is [a resource](http://www.careerbless.com/aptitude/qa/complex_numbers_imp.php) to help you with the required information to solve this assignment. You can take help from other online resources as well.\n",
    "\n",
    "### Questions:\n",
    "\n",
    "Define the follwoing operations for the class: \n",
    "\n",
    "* representation in the form of x + yi when used with `print` command\n",
    "* '+'\n",
    "* '-'\n",
    "* '*'\n",
    "* '/'\n",
    "* abs()\n",
    "\n",
    "* Note that these operations should be compatible with `int` and `float` datatypes as well\n",
    "\n",
    "Also, define following methods.\n",
    "\n",
    "\n",
    "* real() [Returns real component of the complex number]\n",
    "* imag() [Returns complex component of the complex number]\n",
    "* argument() [Returns argument of the complex number]\n",
    "* conjugate() [Returns conjugate of the complex number]\n",
    "\n",
    "Include error handling"
   ]
  },
  {
   "cell_type": "code",
   "execution_count": 1,
   "metadata": {},
   "outputs": [],
   "source": [
    "import math"
   ]
  },
  {
   "cell_type": "code",
   "execution_count": 2,
   "metadata": {},
   "outputs": [],
   "source": [
    "class ComplexNum:\n",
    "    def __init__(self, x = 0.0, y = 0.0):\n",
    "        if (type(x) is float or type(x) is int) and (type(y) is float or type(y) is int):\n",
    "            self.x = x\n",
    "            self.y = y\n",
    "        else:\n",
    "            raise ValueError(f\"Real & Imaginary numbers must be int or float. Received {str(x)} and {str(y)}\") \n",
    "\n",
    "    def __str__(self):\n",
    "        return(str(self.x) + \"{0:+}\".format(self.y) + \"i\")\n",
    "    \n",
    "    def __add__(self, other):\n",
    "        return ComplexNum(self.x + other.x, self.y + other.y)\n",
    "    \n",
    "    def __abs__(self):\n",
    "        return math.sqrt(self.x**2 + self.y**2)\n",
    "    \n",
    "    def __sub__(self, other):\n",
    "        return ComplexNum(self.x - other.x, self.y - other.y)    \n",
    "    \n",
    "    def __truediv__(self, other):\n",
    "        numer = self*other.conjugate()\n",
    "        denom = other*other.conjugate()\n",
    "        return ComplexNum(numer.x/denom.x, numer.y/denom.x)\n",
    "\n",
    "    def __mul__(self, other):\n",
    "        return ComplexNum(self.x*other.x + self.y*other.y*(-1), self.y*other.x + self.x*other.y)\n",
    "\n",
    "        \n",
    "    #def __truediv__(self, other):\n",
    "    #    denom = other.x*other.conjugate().x + other.y*other.conjugate().y*(-1)\n",
    "    #    numer_x = self.x * other.conjugate().x + self.y * other.conjugate().y * (-1)\n",
    "    #    numer_y = self.x * other.conjugate().y + self.y * other.conjugate().x\n",
    "    #    #print(\"see \" + str(numer_x) + \" \" + str(numer_y) + \" \" + str(denom))\n",
    "    #    return ComplexNum(numer_x/denom, numer_y/denom)\n",
    "    \n",
    "    \n",
    "    def real(self):\n",
    "        return self.x\n",
    "    \n",
    "    def imag(self):\n",
    "        return self.y\n",
    "    \n",
    "    def conjugate(self):\n",
    "        return ComplexNum(self.x, -1 * self.y)\n",
    "    \n",
    "    def argument2(self):\n",
    "        return math.atan2(self.y , self.x)\n",
    "    \n",
    "    def argument(self):\n",
    "        return math.atan(self.y / self.x)\n",
    "    "
   ]
  },
  {
   "cell_type": "code",
   "execution_count": 3,
   "metadata": {},
   "outputs": [],
   "source": [
    "c1 = ComplexNum(1.2, 2.3)\n",
    "c2 = ComplexNum(2,3)\n",
    "\n",
    "c4=ComplexNum(6,3)\n",
    "c5=ComplexNum(7,-5)\n",
    "c6=ComplexNum(1,-3)\n",
    "c7=ComplexNum(2,5)"
   ]
  },
  {
   "cell_type": "code",
   "execution_count": 4,
   "metadata": {},
   "outputs": [
    {
     "name": "stdout",
     "output_type": "stream",
     "text": [
      "1.2+2.3i\n",
      "2+3i\n",
      "2\n",
      "3\n",
      "2-3i\n",
      "0.982793723247329\n",
      "0.982793723247329\n",
      "3.2+5.3i\n",
      "3.2+0.7000000000000002i\n",
      "3.2-0.7000000000000002i\n",
      "0.36486486486486486+0.6891891891891891i\n",
      "17-1i\n",
      "3.605551275463989\n"
     ]
    }
   ],
   "source": [
    "print(c1)\n",
    "print(c2)\n",
    "#print(c3)\n",
    "print(c2.real())\n",
    "print(c2.imag())\n",
    "print(c2.conjugate())\n",
    "#print(c2.abs())\n",
    "print(c2.argument())\n",
    "print(c2.argument2())\n",
    "print(c1+c2)\n",
    "print(c2+c1.conjugate())\n",
    "print(c1+c2.conjugate())\n",
    "print(c4/c5)\n",
    "print(c6*c7)\n",
    "print(abs(c2))"
   ]
  },
  {
   "cell_type": "code",
   "execution_count": 5,
   "metadata": {},
   "outputs": [
    {
     "ename": "ValueError",
     "evalue": "Real & Imaginary numbers must be int or float. Received a and b",
     "output_type": "error",
     "traceback": [
      "\u001b[1;31m---------------------------------------------------------------------------\u001b[0m",
      "\u001b[1;31mValueError\u001b[0m                                Traceback (most recent call last)",
      "\u001b[1;32m<ipython-input-5-01623bc1cec9>\u001b[0m in \u001b[0;36m<module>\u001b[1;34m()\u001b[0m\n\u001b[1;32m----> 1\u001b[1;33m \u001b[0mc3\u001b[0m \u001b[1;33m=\u001b[0m \u001b[0mComplexNum\u001b[0m\u001b[1;33m(\u001b[0m\u001b[1;34m'a'\u001b[0m\u001b[1;33m,\u001b[0m\u001b[1;34m'b'\u001b[0m\u001b[1;33m)\u001b[0m\u001b[1;33m\u001b[0m\u001b[0m\n\u001b[0m",
      "\u001b[1;32m<ipython-input-2-c6b17d598491>\u001b[0m in \u001b[0;36m__init__\u001b[1;34m(self, x, y)\u001b[0m\n\u001b[0;32m      5\u001b[0m             \u001b[0mself\u001b[0m\u001b[1;33m.\u001b[0m\u001b[0my\u001b[0m \u001b[1;33m=\u001b[0m \u001b[0my\u001b[0m\u001b[1;33m\u001b[0m\u001b[0m\n\u001b[0;32m      6\u001b[0m         \u001b[1;32melse\u001b[0m\u001b[1;33m:\u001b[0m\u001b[1;33m\u001b[0m\u001b[0m\n\u001b[1;32m----> 7\u001b[1;33m             \u001b[1;32mraise\u001b[0m \u001b[0mValueError\u001b[0m\u001b[1;33m(\u001b[0m\u001b[1;34mf\"Real & Imaginary numbers must be int or float. Received {str(x)} and {str(y)}\"\u001b[0m\u001b[1;33m)\u001b[0m\u001b[1;33m\u001b[0m\u001b[0m\n\u001b[0m\u001b[0;32m      8\u001b[0m \u001b[1;33m\u001b[0m\u001b[0m\n\u001b[0;32m      9\u001b[0m     \u001b[1;32mdef\u001b[0m \u001b[0m__str__\u001b[0m\u001b[1;33m(\u001b[0m\u001b[0mself\u001b[0m\u001b[1;33m)\u001b[0m\u001b[1;33m:\u001b[0m\u001b[1;33m\u001b[0m\u001b[0m\n",
      "\u001b[1;31mValueError\u001b[0m: Real & Imaginary numbers must be int or float. Received a and b"
     ]
    }
   ],
   "source": [
    "c3 = ComplexNum('a','b')"
   ]
  },
  {
   "cell_type": "code",
   "execution_count": null,
   "metadata": {},
   "outputs": [],
   "source": []
  }
 ],
 "metadata": {
  "kernelspec": {
   "display_name": "Python 3",
   "language": "python",
   "name": "python3"
  },
  "language_info": {
   "codemirror_mode": {
    "name": "ipython",
    "version": 3
   },
   "file_extension": ".py",
   "mimetype": "text/x-python",
   "name": "python",
   "nbconvert_exporter": "python",
   "pygments_lexer": "ipython3",
   "version": "3.6.3"
  },
  "widgets": {
   "state": {},
   "version": "1.1.2"
  }
 },
 "nbformat": 4,
 "nbformat_minor": 2
}

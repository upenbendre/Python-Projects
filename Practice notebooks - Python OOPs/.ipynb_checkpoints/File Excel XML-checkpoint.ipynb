{
 "cells": [
  {
   "cell_type": "code",
   "execution_count": null,
   "metadata": {},
   "outputs": [],
   "source": []
  },
  {
   "cell_type": "code",
   "execution_count": 2,
   "metadata": {},
   "outputs": [
    {
     "name": "stdout",
     "output_type": "stream",
     "text": [
      "1.5\n"
     ]
    }
   ],
   "source": [
    "class MathUtils:\n",
    "\n",
    "    @staticmethod\n",
    "    def average(a, b):\n",
    "        return (a + b) / 2\n",
    "\n",
    "print(MathUtils.average(2, 1))"
   ]
  },
  {
   "cell_type": "code",
   "execution_count": null,
   "metadata": {},
   "outputs": [],
   "source": []
  },
  {
   "cell_type": "code",
   "execution_count": 4,
   "metadata": {},
   "outputs": [],
   "source": [
    "import itertools as it"
   ]
  },
  {
   "cell_type": "code",
   "execution_count": 85,
   "metadata": {},
   "outputs": [
    {
     "name": "stdout",
     "output_type": "stream",
     "text": [
      "[]\n"
     ]
    },
    {
     "data": {
      "text/plain": [
       "[[-1, 0, 1], [-1, 2, -1]]"
      ]
     },
     "execution_count": 85,
     "metadata": {},
     "output_type": "execute_result"
    }
   ],
   "source": [
    "import itertools as it\n",
    "class Solution(object):\n",
    "    def threeSum(self, nums):\n",
    "        #return (list(map(list, it.filterfalse(lambda elem: sum(elem) != 0, it.combinations(nums, 3)))))\n",
    "        #full = map(list, it.filterfalse(lambda elem: sum(elem) != 0, it.combinations(nums, 3)))\n",
    "        #list[list[int]]\n",
    "        #result = list()\n",
    "        print(result)\n",
    "        sorted_result = [[]]\n",
    "        for el in it.filterfalse(lambda elem: sum(elem) != 0, it.combinations(nums, 3)):\n",
    "            if sorted(el) not in sorted_result:\n",
    "                result.append(list(el))\n",
    "                sorted_result.append(sorted(el))\n",
    "                \n",
    "        return(result)\n",
    "       \n",
    "        \n",
    "sol = Solution()\n",
    "sol.threeSum([-1, 0, 1, 2, -1, -4])\n",
    "\n",
    "#print(sorted((4,3,5)))\n",
    "        \n",
    "        "
   ]
  },
  {
   "cell_type": "code",
   "execution_count": 12,
   "metadata": {},
   "outputs": [
    {
     "name": "stdout",
     "output_type": "stream",
     "text": [
      "D:\\upx_notebooks\\Practice notebooks - Python OOPs\n",
      "c:\\anaconda\\Library\\bin;C:\\Anaconda;C:\\Anaconda\\Library\\mingw-w64\\bin;C:\\Anaconda\\Library\\usr\\bin;C:\\Anaconda\\Library\\bin;C:\\Anaconda\\Scripts;C:\\Anaconda\\bin;C:\\ProgramData\\Oracle\\Java\\javapath;C:\\Windows\\system32;C:\\Windows;C:\\Windows\\System32\\Wbem;C:\\Windows\\System32\\WindowsPowerShell\\v1.0\\;C:\\Program Files\\PuTTY\\;C:\\Program Files (x86)\\scala\\bin;C:\\Program Files (x86)\\scala\\bin; C:\\Program Files\\Java\\jdk1.8.0_101\\bin; C:\\Users\\Upen Bendre\\AppData\\Local\\Programs\\Python\\Python36-32\\Scripts\\; C:\\Users\\Upen Bendre\\AppData\\Local\\Programs\\Python\\Python36-32\\;C:\\glassfish3\\jdk\\bin; \n",
      ".;C:\\bin\n"
     ]
    }
   ],
   "source": [
    "import os\n",
    "print(os.getcwd())\n",
    "path = os.environ.get(\"PATH\", os.defpath).split(os.pathsep)\n",
    "print(os.environ.get(\"PATH\"))\n",
    "print(os.environ."
   ]
  },
  {
   "cell_type": "code",
   "execution_count": 18,
   "metadata": {},
   "outputs": [
    {
     "ename": "FileNotFoundError",
     "evalue": "[Errno 2] No such file or directory: 'D:\\\\upx_notebooks\\\\Files\\\\test_file01.txt'",
     "output_type": "error",
     "traceback": [
      "\u001b[1;31m---------------------------------------------------------------------------\u001b[0m",
      "\u001b[1;31mFileNotFoundError\u001b[0m                         Traceback (most recent call last)",
      "\u001b[1;32m<ipython-input-18-6475fd032eab>\u001b[0m in \u001b[0;36m<module>\u001b[1;34m()\u001b[0m\n\u001b[1;32m----> 1\u001b[1;33m \u001b[0mfh\u001b[0m \u001b[1;33m=\u001b[0m \u001b[0mopen\u001b[0m\u001b[1;33m(\u001b[0m\u001b[1;34m\"D:\\\\upx_notebooks\\\\Files\\\\test_file01.txt\"\u001b[0m\u001b[1;33m,\u001b[0m \u001b[1;34m'r'\u001b[0m\u001b[1;33m)\u001b[0m\u001b[1;33m\u001b[0m\u001b[0m\n\u001b[0m",
      "\u001b[1;31mFileNotFoundError\u001b[0m: [Errno 2] No such file or directory: 'D:\\\\upx_notebooks\\\\Files\\\\test_file01.txt'"
     ]
    }
   ],
   "source": [
    "fh = open(\"D:\\\\upx_notebooks\\\\Files\\\\test_file01.txt\", 'r')"
   ]
  },
  {
   "cell_type": "code",
   "execution_count": 24,
   "metadata": {},
   "outputs": [],
   "source": [
    "os.chdir('D:\\\\upx_notebooks\\Files')"
   ]
  },
  {
   "cell_type": "code",
   "execution_count": 26,
   "metadata": {},
   "outputs": [
    {
     "data": {
      "text/plain": [
       "'D:\\\\upx_notebooks\\\\Files'"
      ]
     },
     "execution_count": 26,
     "metadata": {},
     "output_type": "execute_result"
    }
   ],
   "source": [
    "os.getcwd()"
   ]
  },
  {
   "cell_type": "code",
   "execution_count": 44,
   "metadata": {},
   "outputs": [],
   "source": [
    "fh = open(\"test_file_01.txt\", 'r')"
   ]
  },
  {
   "cell_type": "code",
   "execution_count": 35,
   "metadata": {},
   "outputs": [],
   "source": [
    "read_all = fh.read()   #Returns one big string with contents of file\n",
    "read_lines = fh.readlines()   #Returns one big list with each element as record in the file.\n",
    "#Read puts the whole file in a String and readlines puts the whole file in a list of records.\n",
    "#Once you execute anyone of these commands, the file pointer is set to the end of the file.\n",
    "#Another read command will now return a ''"
   ]
  },
  {
   "cell_type": "code",
   "execution_count": 37,
   "metadata": {},
   "outputs": [
    {
     "name": "stdout",
     "output_type": "stream",
     "text": [
      "<class 'str'> <class 'list'>\n"
     ]
    }
   ],
   "source": [
    "print(type(read_all), type(read_lines))"
   ]
  },
  {
   "cell_type": "code",
   "execution_count": 33,
   "metadata": {},
   "outputs": [
    {
     "data": {
      "text/plain": [
       "True"
      ]
     },
     "execution_count": 33,
     "metadata": {},
     "output_type": "execute_result"
    }
   ],
   "source": [
    "fh.readable()   #Returns whether file was opened for reading"
   ]
  },
  {
   "cell_type": "code",
   "execution_count": 42,
   "metadata": {},
   "outputs": [
    {
     "name": "stdout",
     "output_type": "stream",
     "text": [
      "Mary had a little lamb, little lamb .... litteeellllleeee.... laaaamb...\n",
      "\n"
     ]
    }
   ],
   "source": [
    "read_line = fh.readline()\n",
    "print(read_line)"
   ]
  },
  {
   "cell_type": "code",
   "execution_count": 56,
   "metadata": {},
   "outputs": [],
   "source": [
    "fh2 = open(\"new_file_01\", 'w')"
   ]
  },
  {
   "cell_type": "code",
   "execution_count": 57,
   "metadata": {},
   "outputs": [],
   "source": [
    "line = []\n",
    "line.append('Mary had a little lamb, little lamb .... litteeellllleeee.... laaaamb...')\n",
    "line.append('Five little monkeys jumping on a bed .... one fell down and bumped his head...')\n",
    "line.append('head... shoulder knees and toes ... knees and toes ....')\n",
    "line.append('Three little kittens .. they lost their mittens.... and they began to cry .... ')\n",
    "line.append('Hey diddle... diddle... the cat and a fiddle... the cow jumped over the moon .....') \n",
    "line.append('Row.. row .. row your boat .... gently down the stream ...')\n",
    "line.append('one two buckle my shoe .... three four shut the door....')\n",
    "line.append('little bo peep has lost her sheep... and doesnt know where to find them....')"
   ]
  },
  {
   "cell_type": "code",
   "execution_count": 58,
   "metadata": {},
   "outputs": [
    {
     "data": {
      "text/plain": [
       "True"
      ]
     },
     "execution_count": 58,
     "metadata": {},
     "output_type": "execute_result"
    }
   ],
   "source": [
    "fh2.writable()"
   ]
  },
  {
   "cell_type": "code",
   "execution_count": 59,
   "metadata": {},
   "outputs": [],
   "source": [
    "fh2.writelines(line)"
   ]
  },
  {
   "cell_type": "code",
   "execution_count": 60,
   "metadata": {},
   "outputs": [
    {
     "ename": "UnsupportedOperation",
     "evalue": "not readable",
     "output_type": "error",
     "traceback": [
      "\u001b[1;31m---------------------------------------------------------------------------\u001b[0m",
      "\u001b[1;31mUnsupportedOperation\u001b[0m                      Traceback (most recent call last)",
      "\u001b[1;32m<ipython-input-60-67fbc76fdeb4>\u001b[0m in \u001b[0;36m<module>\u001b[1;34m()\u001b[0m\n\u001b[1;32m----> 1\u001b[1;33m \u001b[0mprint\u001b[0m\u001b[1;33m(\u001b[0m\u001b[0mfh2\u001b[0m\u001b[1;33m.\u001b[0m\u001b[0mread\u001b[0m\u001b[1;33m(\u001b[0m\u001b[1;33m)\u001b[0m\u001b[1;33m)\u001b[0m\u001b[1;33m\u001b[0m\u001b[0m\n\u001b[0m",
      "\u001b[1;31mUnsupportedOperation\u001b[0m: not readable"
     ]
    }
   ],
   "source": [
    "print(fh2.read())"
   ]
  },
  {
   "cell_type": "code",
   "execution_count": 66,
   "metadata": {},
   "outputs": [
    {
     "name": "stdout",
     "output_type": "stream",
     "text": [
      "True True\n"
     ]
    },
    {
     "ename": "AttributeError",
     "evalue": "'_io.TextIOWrapper' object has no attribute 'writeline'",
     "output_type": "error",
     "traceback": [
      "\u001b[1;31m---------------------------------------------------------------------------\u001b[0m",
      "\u001b[1;31mAttributeError\u001b[0m                            Traceback (most recent call last)",
      "\u001b[1;32m<ipython-input-66-61f1374e9f96>\u001b[0m in \u001b[0;36m<module>\u001b[1;34m()\u001b[0m\n\u001b[0;32m      1\u001b[0m \u001b[0mfh3\u001b[0m \u001b[1;33m=\u001b[0m \u001b[0mopen\u001b[0m\u001b[1;33m(\u001b[0m\u001b[1;34m\"new_file_02\"\u001b[0m\u001b[1;33m,\u001b[0m \u001b[1;34m'w+'\u001b[0m\u001b[1;33m)\u001b[0m\u001b[1;33m\u001b[0m\u001b[0m\n\u001b[0;32m      2\u001b[0m \u001b[0mprint\u001b[0m\u001b[1;33m(\u001b[0m\u001b[0mfh3\u001b[0m\u001b[1;33m.\u001b[0m\u001b[0mreadable\u001b[0m\u001b[1;33m(\u001b[0m\u001b[1;33m)\u001b[0m\u001b[1;33m,\u001b[0m \u001b[0mfh3\u001b[0m\u001b[1;33m.\u001b[0m\u001b[0mwritable\u001b[0m\u001b[1;33m(\u001b[0m\u001b[1;33m)\u001b[0m\u001b[1;33m)\u001b[0m\u001b[1;33m\u001b[0m\u001b[0m\n\u001b[1;32m----> 3\u001b[1;33m \u001b[0mfh3\u001b[0m\u001b[1;33m.\u001b[0m\u001b[0mwriteline\u001b[0m\u001b[1;33m(\u001b[0m\u001b[1;34m\"one more rec\"\u001b[0m\u001b[1;33m)\u001b[0m\u001b[1;33m\u001b[0m\u001b[0m\n\u001b[0m",
      "\u001b[1;31mAttributeError\u001b[0m: '_io.TextIOWrapper' object has no attribute 'writeline'"
     ]
    }
   ],
   "source": [
    "fh3 = open(\"new_file_02\", 'w+')\n",
    "print(fh3.readable(), fh3.writable())\n",
    "fh3.write"
   ]
  },
  {
   "cell_type": "code",
   "execution_count": 63,
   "metadata": {},
   "outputs": [
    {
     "data": {
      "text/plain": [
       "False"
      ]
     },
     "execution_count": 63,
     "metadata": {},
     "output_type": "execute_result"
    }
   ],
   "source": [
    "fh3.closed"
   ]
  },
  {
   "cell_type": "code",
   "execution_count": 86,
   "metadata": {},
   "outputs": [
    {
     "name": "stdout",
     "output_type": "stream",
     "text": [
      "18\n",
      "-1\n",
      "-1\n",
      "-1\n",
      "True True True\n",
      "Mary had a little lamb, little lamb .... litteeellllleeee.... laaaamb...\n",
      "Five little monkeys jumping on a bed .... one fell down and bumped his head...\n",
      "Three little kittens .. they lost their mittens.... and they began to cry .... \n",
      "little bo peep has lost her sheep... and doesnt know where to find them....\n",
      "\n"
     ]
    }
   ],
   "source": [
    "with open(\"test_file_03.txt\", 'r') as f1:\n",
    "    with open(\"text_file_new_01.txt\", 'w+') as f2:\n",
    "        with open(\"text_file_new_02.txt\", 'a') as f3:\n",
    "            for rec in f1.readlines():\n",
    "                if \"little\" in rec: \n",
    "                    f2.write(rec)\n",
    "                    print(rec.find(\"lamb\"))  #find returns -1 if substring not found, otherwise returns the position\n",
    "            #f2.write(f1.read())\n",
    "            #f3.write(f1.read())  #Does not work since the first read took f1's pointer to the end\n",
    "\n",
    "#print(f1.readable(), f2.writable())  #Will not work if file is closed\n",
    "\n",
    "print(f1.closed, f2.closed, f3.closed)\n",
    "#f22 = open(\"text_file_new_01.txt\",'r')\n",
    "#print(f22.read())\n",
    "with open(\"text_file_new_01.txt\", 'r') as f23: print(f23.read())"
   ]
  },
  {
   "cell_type": "code",
   "execution_count": 107,
   "metadata": {},
   "outputs": [
    {
     "name": "stdout",
     "output_type": "stream",
     "text": [
      "\n",
      "\n",
      "\n"
     ]
    }
   ],
   "source": [
    "\"\"\"os.SEEK_POS, os.SEEK_CUR, os.SEEK_END are constants i.e. 0,1,2 representing start, current and end character position in file\"\"\"\n",
    "fs = open(\"test_file_02.txt\", 'r')\n",
    "fs.seek(0, os.SEEK_SET)\n",
    "print(fs.readline())\n",
    "fs.seek(0, os.SEEK_CUR)\n",
    "print(fs.readline())\n",
    "fs.seek(0, os.SEEK_END)\n",
    "print(fs.readline())\n",
    "#fs.seek(-10, os.SEEK_END)\n"
   ]
  },
  {
   "cell_type": "code",
   "execution_count": 103,
   "metadata": {},
   "outputs": [],
   "source": [
    "import pandas as pd\n",
    "import numpy as np"
   ]
  },
  {
   "cell_type": "code",
   "execution_count": 112,
   "metadata": {},
   "outputs": [
    {
     "data": {
      "text/plain": [
       "'D:\\\\upx_notebooks\\\\Excels'"
      ]
     },
     "execution_count": 112,
     "metadata": {},
     "output_type": "execute_result"
    }
   ],
   "source": [
    "os.chdir(\"D:\\\\upx_notebooks\\\\Excels\")\n",
    "os.getcwd()"
   ]
  },
  {
   "cell_type": "code",
   "execution_count": 171,
   "metadata": {},
   "outputs": [
    {
     "data": {
      "text/html": [
       "<div>\n",
       "<style>\n",
       "    .dataframe thead tr:only-child th {\n",
       "        text-align: right;\n",
       "    }\n",
       "\n",
       "    .dataframe thead th {\n",
       "        text-align: left;\n",
       "    }\n",
       "\n",
       "    .dataframe tbody tr th {\n",
       "        vertical-align: top;\n",
       "    }\n",
       "</style>\n",
       "<table border=\"1\" class=\"dataframe\">\n",
       "  <thead>\n",
       "    <tr style=\"text-align: right;\">\n",
       "      <th></th>\n",
       "      <th>IsIn</th>\n",
       "      <th>Buy Qty</th>\n",
       "      <th>Buy Rate</th>\n",
       "      <th>Buy Val</th>\n",
       "      <th>Sell Qty</th>\n",
       "      <th>Sell Rate</th>\n",
       "      <th>Sell Val</th>\n",
       "      <th>Cl Rate</th>\n",
       "      <th>Cl Val</th>\n",
       "      <th>Profit &amp; Loss</th>\n",
       "      <th>Income Tax</th>\n",
       "    </tr>\n",
       "    <tr>\n",
       "      <th>Scrip Name</th>\n",
       "      <th></th>\n",
       "      <th></th>\n",
       "      <th></th>\n",
       "      <th></th>\n",
       "      <th></th>\n",
       "      <th></th>\n",
       "      <th></th>\n",
       "      <th></th>\n",
       "      <th></th>\n",
       "      <th></th>\n",
       "      <th></th>\n",
       "    </tr>\n",
       "  </thead>\n",
       "  <tbody>\n",
       "    <tr>\n",
       "      <th>SPECULATION GAIN / LOSS For Party ( C19423 )</th>\n",
       "      <td>NaN</td>\n",
       "      <td>NaN</td>\n",
       "      <td>NaN</td>\n",
       "      <td>NaN</td>\n",
       "      <td>NaN</td>\n",
       "      <td>NaN</td>\n",
       "      <td>NaN</td>\n",
       "      <td>NaN</td>\n",
       "      <td>NaN</td>\n",
       "      <td>NaN</td>\n",
       "      <td>NaN</td>\n",
       "    </tr>\n",
       "    <tr>\n",
       "      <th>ACC LIMITED</th>\n",
       "      <td>INE012A01025</td>\n",
       "      <td>75.0</td>\n",
       "      <td>1546.99</td>\n",
       "      <td>116024.42</td>\n",
       "      <td>75.0</td>\n",
       "      <td>1549.23</td>\n",
       "      <td>116192.34</td>\n",
       "      <td>0.0</td>\n",
       "      <td>0.0</td>\n",
       "      <td>167.92</td>\n",
       "      <td>50.38</td>\n",
       "    </tr>\n",
       "    <tr>\n",
       "      <th>APTECH LIMITED</th>\n",
       "      <td>INE266F01018</td>\n",
       "      <td>2903.0</td>\n",
       "      <td>76.39</td>\n",
       "      <td>221771.70</td>\n",
       "      <td>2903.0</td>\n",
       "      <td>76.86</td>\n",
       "      <td>223111.58</td>\n",
       "      <td>0.0</td>\n",
       "      <td>0.0</td>\n",
       "      <td>1339.88</td>\n",
       "      <td>401.96</td>\n",
       "    </tr>\n",
       "    <tr>\n",
       "      <th>AXIS BANK LIMITED</th>\n",
       "      <td>INE238A01034</td>\n",
       "      <td>300.0</td>\n",
       "      <td>498.10</td>\n",
       "      <td>149429.76</td>\n",
       "      <td>300.0</td>\n",
       "      <td>496.75</td>\n",
       "      <td>149023.83</td>\n",
       "      <td>0.0</td>\n",
       "      <td>0.0</td>\n",
       "      <td>-405.93</td>\n",
       "      <td>-121.78</td>\n",
       "    </tr>\n",
       "    <tr>\n",
       "      <th>BAJAJ AUTO LIMITED</th>\n",
       "      <td>INE917I01010</td>\n",
       "      <td>50.0</td>\n",
       "      <td>2591.55</td>\n",
       "      <td>129577.73</td>\n",
       "      <td>50.0</td>\n",
       "      <td>2593.22</td>\n",
       "      <td>129660.93</td>\n",
       "      <td>0.0</td>\n",
       "      <td>0.0</td>\n",
       "      <td>83.20</td>\n",
       "      <td>24.96</td>\n",
       "    </tr>\n",
       "    <tr>\n",
       "      <th>BEML LIMITED</th>\n",
       "      <td>INE258A01016</td>\n",
       "      <td>125.0</td>\n",
       "      <td>872.64</td>\n",
       "      <td>109080.51</td>\n",
       "      <td>125.0</td>\n",
       "      <td>877.97</td>\n",
       "      <td>109745.93</td>\n",
       "      <td>0.0</td>\n",
       "      <td>0.0</td>\n",
       "      <td>665.41</td>\n",
       "      <td>199.62</td>\n",
       "    </tr>\n",
       "    <tr>\n",
       "      <th>BHARAT PETROLEUM CORP LT</th>\n",
       "      <td>INE029A01011</td>\n",
       "      <td>200.0</td>\n",
       "      <td>1000.12</td>\n",
       "      <td>200023.58</td>\n",
       "      <td>200.0</td>\n",
       "      <td>1001.19</td>\n",
       "      <td>200237.42</td>\n",
       "      <td>0.0</td>\n",
       "      <td>0.0</td>\n",
       "      <td>213.84</td>\n",
       "      <td>64.15</td>\n",
       "    </tr>\n",
       "    <tr>\n",
       "      <th>COLGATE PALMOLIVE LTD.</th>\n",
       "      <td>INE259A01022</td>\n",
       "      <td>127.0</td>\n",
       "      <td>874.05</td>\n",
       "      <td>111004.63</td>\n",
       "      <td>127.0</td>\n",
       "      <td>875.22</td>\n",
       "      <td>111153.05</td>\n",
       "      <td>0.0</td>\n",
       "      <td>0.0</td>\n",
       "      <td>148.42</td>\n",
       "      <td>44.53</td>\n",
       "    </tr>\n",
       "    <tr>\n",
       "      <th>DEWAN HOUSING FIN CORP LT</th>\n",
       "      <td>INE202B01012</td>\n",
       "      <td>500.0</td>\n",
       "      <td>202.70</td>\n",
       "      <td>101347.50</td>\n",
       "      <td>500.0</td>\n",
       "      <td>201.99</td>\n",
       "      <td>100993.70</td>\n",
       "      <td>0.0</td>\n",
       "      <td>0.0</td>\n",
       "      <td>-353.80</td>\n",
       "      <td>-106.14</td>\n",
       "    </tr>\n",
       "    <tr>\n",
       "      <th>GUJ NAR VAL FER &amp; CHEM L</th>\n",
       "      <td>INE113A01013</td>\n",
       "      <td>1400.0</td>\n",
       "      <td>163.67</td>\n",
       "      <td>229132.47</td>\n",
       "      <td>1400.0</td>\n",
       "      <td>164.78</td>\n",
       "      <td>230693.75</td>\n",
       "      <td>0.0</td>\n",
       "      <td>0.0</td>\n",
       "      <td>1561.28</td>\n",
       "      <td>468.38</td>\n",
       "    </tr>\n",
       "    <tr>\n",
       "      <th>INDIABULLS VENTURES LTD</th>\n",
       "      <td>INE274G01010</td>\n",
       "      <td>13000.0</td>\n",
       "      <td>29.41</td>\n",
       "      <td>382274.40</td>\n",
       "      <td>13000.0</td>\n",
       "      <td>29.37</td>\n",
       "      <td>381836.60</td>\n",
       "      <td>0.0</td>\n",
       "      <td>0.0</td>\n",
       "      <td>-437.80</td>\n",
       "      <td>-131.34</td>\n",
       "    </tr>\n",
       "    <tr>\n",
       "      <th>INDO COUNT INDUSTRIES LTD</th>\n",
       "      <td>INE483B01018</td>\n",
       "      <td>150.0</td>\n",
       "      <td>732.42</td>\n",
       "      <td>109863.18</td>\n",
       "      <td>150.0</td>\n",
       "      <td>739.45</td>\n",
       "      <td>110917.14</td>\n",
       "      <td>0.0</td>\n",
       "      <td>0.0</td>\n",
       "      <td>1053.96</td>\n",
       "      <td>316.19</td>\n",
       "    </tr>\n",
       "    <tr>\n",
       "      <th>INTELLECT DESIGN ARENA</th>\n",
       "      <td>INE306R01017</td>\n",
       "      <td>500.0</td>\n",
       "      <td>214.38</td>\n",
       "      <td>107188.40</td>\n",
       "      <td>500.0</td>\n",
       "      <td>215.69</td>\n",
       "      <td>107842.60</td>\n",
       "      <td>0.0</td>\n",
       "      <td>0.0</td>\n",
       "      <td>654.20</td>\n",
       "      <td>196.26</td>\n",
       "    </tr>\n",
       "    <tr>\n",
       "      <th>JSW STEEL LIMITED</th>\n",
       "      <td>INE019A01020</td>\n",
       "      <td>100.0</td>\n",
       "      <td>1424.54</td>\n",
       "      <td>142453.50</td>\n",
       "      <td>100.0</td>\n",
       "      <td>1426.07</td>\n",
       "      <td>142606.58</td>\n",
       "      <td>0.0</td>\n",
       "      <td>0.0</td>\n",
       "      <td>153.08</td>\n",
       "      <td>45.92</td>\n",
       "    </tr>\n",
       "    <tr>\n",
       "      <th>JUBILANT FOODWORKS LTD</th>\n",
       "      <td>INE797F01012</td>\n",
       "      <td>100.0</td>\n",
       "      <td>1051.51</td>\n",
       "      <td>105151.18</td>\n",
       "      <td>100.0</td>\n",
       "      <td>1049.68</td>\n",
       "      <td>104967.53</td>\n",
       "      <td>0.0</td>\n",
       "      <td>0.0</td>\n",
       "      <td>-183.65</td>\n",
       "      <td>-55.10</td>\n",
       "    </tr>\n",
       "    <tr>\n",
       "      <th>JUSTDIAL LTD.</th>\n",
       "      <td>INE599M01018</td>\n",
       "      <td>100.0</td>\n",
       "      <td>665.63</td>\n",
       "      <td>66563.46</td>\n",
       "      <td>100.0</td>\n",
       "      <td>666.03</td>\n",
       "      <td>66602.66</td>\n",
       "      <td>0.0</td>\n",
       "      <td>0.0</td>\n",
       "      <td>39.20</td>\n",
       "      <td>11.76</td>\n",
       "    </tr>\n",
       "    <tr>\n",
       "      <th>LUPIN LIMITED</th>\n",
       "      <td>INE326A01037</td>\n",
       "      <td>400.0</td>\n",
       "      <td>1519.51</td>\n",
       "      <td>607804.68</td>\n",
       "      <td>400.0</td>\n",
       "      <td>1503.67</td>\n",
       "      <td>601467.68</td>\n",
       "      <td>0.0</td>\n",
       "      <td>0.0</td>\n",
       "      <td>-6337.00</td>\n",
       "      <td>-1901.10</td>\n",
       "    </tr>\n",
       "    <tr>\n",
       "      <th>MAGMA FINCORP LIMITED</th>\n",
       "      <td>INE511C01022</td>\n",
       "      <td>1000.0</td>\n",
       "      <td>105.06</td>\n",
       "      <td>105060.00</td>\n",
       "      <td>1000.0</td>\n",
       "      <td>105.95</td>\n",
       "      <td>105945.70</td>\n",
       "      <td>0.0</td>\n",
       "      <td>0.0</td>\n",
       "      <td>885.70</td>\n",
       "      <td>265.71</td>\n",
       "    </tr>\n",
       "    <tr>\n",
       "      <th>MAHINDRA &amp; MAHINDRA LTD</th>\n",
       "      <td>INE101A01026</td>\n",
       "      <td>280.0</td>\n",
       "      <td>1342.67</td>\n",
       "      <td>375947.25</td>\n",
       "      <td>280.0</td>\n",
       "      <td>1344.63</td>\n",
       "      <td>376497.73</td>\n",
       "      <td>0.0</td>\n",
       "      <td>0.0</td>\n",
       "      <td>550.48</td>\n",
       "      <td>165.14</td>\n",
       "    </tr>\n",
       "    <tr>\n",
       "      <th>MAN INFRA LTD</th>\n",
       "      <td>INE949H01023</td>\n",
       "      <td>2500.0</td>\n",
       "      <td>49.13</td>\n",
       "      <td>122825.25</td>\n",
       "      <td>2500.0</td>\n",
       "      <td>49.93</td>\n",
       "      <td>124823.75</td>\n",
       "      <td>0.0</td>\n",
       "      <td>0.0</td>\n",
       "      <td>1998.50</td>\n",
       "      <td>599.55</td>\n",
       "    </tr>\n",
       "    <tr>\n",
       "      <th>MULTI COMMODITY EXCHANGE</th>\n",
       "      <td>INE745G01035</td>\n",
       "      <td>100.0</td>\n",
       "      <td>1121.00</td>\n",
       "      <td>112099.72</td>\n",
       "      <td>100.0</td>\n",
       "      <td>1122.65</td>\n",
       "      <td>112265.33</td>\n",
       "      <td>0.0</td>\n",
       "      <td>0.0</td>\n",
       "      <td>165.61</td>\n",
       "      <td>49.68</td>\n",
       "    </tr>\n",
       "    <tr>\n",
       "      <th>NATCO PHARMA LTD.</th>\n",
       "      <td>INE987B01026</td>\n",
       "      <td>300.0</td>\n",
       "      <td>457.55</td>\n",
       "      <td>137265.15</td>\n",
       "      <td>300.0</td>\n",
       "      <td>456.77</td>\n",
       "      <td>137030.61</td>\n",
       "      <td>0.0</td>\n",
       "      <td>0.0</td>\n",
       "      <td>-234.54</td>\n",
       "      <td>-70.36</td>\n",
       "    </tr>\n",
       "    <tr>\n",
       "      <th>RAYMOND LTD</th>\n",
       "      <td>INE301A01014</td>\n",
       "      <td>100.0</td>\n",
       "      <td>512.03</td>\n",
       "      <td>51203.06</td>\n",
       "      <td>100.0</td>\n",
       "      <td>513.25</td>\n",
       "      <td>51324.82</td>\n",
       "      <td>0.0</td>\n",
       "      <td>0.0</td>\n",
       "      <td>121.76</td>\n",
       "      <td>36.53</td>\n",
       "    </tr>\n",
       "    <tr>\n",
       "      <th>SML ISUZU LIMITED</th>\n",
       "      <td>INE294B01019</td>\n",
       "      <td>200.0</td>\n",
       "      <td>1176.07</td>\n",
       "      <td>235213.29</td>\n",
       "      <td>200.0</td>\n",
       "      <td>1178.28</td>\n",
       "      <td>235655.62</td>\n",
       "      <td>0.0</td>\n",
       "      <td>0.0</td>\n",
       "      <td>442.33</td>\n",
       "      <td>132.70</td>\n",
       "    </tr>\n",
       "    <tr>\n",
       "      <th>TATA MOTORS LIMITED</th>\n",
       "      <td>INE155A01022</td>\n",
       "      <td>250.0</td>\n",
       "      <td>461.87</td>\n",
       "      <td>115467.90</td>\n",
       "      <td>250.0</td>\n",
       "      <td>463.82</td>\n",
       "      <td>115955.55</td>\n",
       "      <td>0.0</td>\n",
       "      <td>0.0</td>\n",
       "      <td>487.65</td>\n",
       "      <td>146.30</td>\n",
       "    </tr>\n",
       "    <tr>\n",
       "      <th>TATA STEEL LIMITED</th>\n",
       "      <td>INE081A01012</td>\n",
       "      <td>500.0</td>\n",
       "      <td>322.92</td>\n",
       "      <td>161459.65</td>\n",
       "      <td>500.0</td>\n",
       "      <td>325.72</td>\n",
       "      <td>162862.15</td>\n",
       "      <td>0.0</td>\n",
       "      <td>0.0</td>\n",
       "      <td>1402.50</td>\n",
       "      <td>420.75</td>\n",
       "    </tr>\n",
       "    <tr>\n",
       "      <th>TITAGARH WAGONS LTD.</th>\n",
       "      <td>INE615H01020</td>\n",
       "      <td>1000.0</td>\n",
       "      <td>92.81</td>\n",
       "      <td>92805.50</td>\n",
       "      <td>1000.0</td>\n",
       "      <td>93.05</td>\n",
       "      <td>93053.30</td>\n",
       "      <td>0.0</td>\n",
       "      <td>0.0</td>\n",
       "      <td>247.80</td>\n",
       "      <td>74.34</td>\n",
       "    </tr>\n",
       "    <tr>\n",
       "      <th>VETO SWITCHGEAR CABLE LTD</th>\n",
       "      <td>INE918N01018</td>\n",
       "      <td>800.0</td>\n",
       "      <td>124.81</td>\n",
       "      <td>99848.88</td>\n",
       "      <td>800.0</td>\n",
       "      <td>128.81</td>\n",
       "      <td>103049.76</td>\n",
       "      <td>0.0</td>\n",
       "      <td>0.0</td>\n",
       "      <td>3200.88</td>\n",
       "      <td>960.26</td>\n",
       "    </tr>\n",
       "    <tr>\n",
       "      <th>TOTAL SPECULATION GAIN / LOSS For Party ( C19423 ) :-</th>\n",
       "      <td>NaN</td>\n",
       "      <td>27060.0</td>\n",
       "      <td>4497886.75</td>\n",
       "      <td>NaN</td>\n",
       "      <td>27060.0</td>\n",
       "      <td>4505517.64</td>\n",
       "      <td>NaN</td>\n",
       "      <td>0.0</td>\n",
       "      <td>NaN</td>\n",
       "      <td>7630.88</td>\n",
       "      <td>2289.25</td>\n",
       "    </tr>\n",
       "    <tr>\n",
       "      <th>SHORT TERM GAIN / LOSS For Party ( C19423 )</th>\n",
       "      <td>NaN</td>\n",
       "      <td>NaN</td>\n",
       "      <td>NaN</td>\n",
       "      <td>NaN</td>\n",
       "      <td>NaN</td>\n",
       "      <td>NaN</td>\n",
       "      <td>NaN</td>\n",
       "      <td>NaN</td>\n",
       "      <td>NaN</td>\n",
       "      <td>NaN</td>\n",
       "      <td>NaN</td>\n",
       "    </tr>\n",
       "    <tr>\n",
       "      <th>...</th>\n",
       "      <td>...</td>\n",
       "      <td>...</td>\n",
       "      <td>...</td>\n",
       "      <td>...</td>\n",
       "      <td>...</td>\n",
       "      <td>...</td>\n",
       "      <td>...</td>\n",
       "      <td>...</td>\n",
       "      <td>...</td>\n",
       "      <td>...</td>\n",
       "      <td>...</td>\n",
       "    </tr>\n",
       "    <tr>\n",
       "      <th>SUN PHARMACEUTICAL IND L</th>\n",
       "      <td>INE044A01036</td>\n",
       "      <td>50.0</td>\n",
       "      <td>930.32</td>\n",
       "      <td>46515.98</td>\n",
       "      <td>50.0</td>\n",
       "      <td>779.64</td>\n",
       "      <td>38982.06</td>\n",
       "      <td>0.0</td>\n",
       "      <td>0.0</td>\n",
       "      <td>-7533.92</td>\n",
       "      <td>0.00</td>\n",
       "    </tr>\n",
       "    <tr>\n",
       "      <th>TATA MOTORS LIMITED</th>\n",
       "      <td>INE155A01022</td>\n",
       "      <td>40.0</td>\n",
       "      <td>395.19</td>\n",
       "      <td>15807.41</td>\n",
       "      <td>40.0</td>\n",
       "      <td>575.51</td>\n",
       "      <td>23020.48</td>\n",
       "      <td>0.0</td>\n",
       "      <td>0.0</td>\n",
       "      <td>7213.06</td>\n",
       "      <td>0.00</td>\n",
       "    </tr>\n",
       "    <tr>\n",
       "      <th>TATA STEEL LIMITED</th>\n",
       "      <td>INE081A01012</td>\n",
       "      <td>35.0</td>\n",
       "      <td>240.50</td>\n",
       "      <td>8417.40</td>\n",
       "      <td>35.0</td>\n",
       "      <td>493.58</td>\n",
       "      <td>17275.15</td>\n",
       "      <td>0.0</td>\n",
       "      <td>0.0</td>\n",
       "      <td>8857.75</td>\n",
       "      <td>0.00</td>\n",
       "    </tr>\n",
       "    <tr>\n",
       "      <th>TOTAL LONG TERM GAIN / LOSS For Party ( C19423 ) :-</th>\n",
       "      <td>NaN</td>\n",
       "      <td>489.0</td>\n",
       "      <td>205047.74</td>\n",
       "      <td>NaN</td>\n",
       "      <td>489.0</td>\n",
       "      <td>240434.23</td>\n",
       "      <td>NaN</td>\n",
       "      <td>0.0</td>\n",
       "      <td>NaN</td>\n",
       "      <td>35386.49</td>\n",
       "      <td>0.00</td>\n",
       "    </tr>\n",
       "    <tr>\n",
       "      <th>HOLDINGS For Party ( C19423 )</th>\n",
       "      <td>NaN</td>\n",
       "      <td>NaN</td>\n",
       "      <td>NaN</td>\n",
       "      <td>NaN</td>\n",
       "      <td>NaN</td>\n",
       "      <td>NaN</td>\n",
       "      <td>NaN</td>\n",
       "      <td>NaN</td>\n",
       "      <td>NaN</td>\n",
       "      <td>NaN</td>\n",
       "      <td>NaN</td>\n",
       "    </tr>\n",
       "    <tr>\n",
       "      <th>BANK OF BARODA</th>\n",
       "      <td>INE028A01013</td>\n",
       "      <td>120.0</td>\n",
       "      <td>308.03</td>\n",
       "      <td>36963.43</td>\n",
       "      <td>NaN</td>\n",
       "      <td>NaN</td>\n",
       "      <td>NaN</td>\n",
       "      <td>NaN</td>\n",
       "      <td>NaN</td>\n",
       "      <td>NaN</td>\n",
       "      <td>NaN</td>\n",
       "    </tr>\n",
       "    <tr>\n",
       "      <th>CIPLA LTD</th>\n",
       "      <td>INE059A01026</td>\n",
       "      <td>30.0</td>\n",
       "      <td>619.66</td>\n",
       "      <td>18589.78</td>\n",
       "      <td>NaN</td>\n",
       "      <td>NaN</td>\n",
       "      <td>NaN</td>\n",
       "      <td>NaN</td>\n",
       "      <td>NaN</td>\n",
       "      <td>NaN</td>\n",
       "      <td>NaN</td>\n",
       "    </tr>\n",
       "    <tr>\n",
       "      <th>CONTAINER CORP OF IND LTD</th>\n",
       "      <td>INE111A01017</td>\n",
       "      <td>100.0</td>\n",
       "      <td>1264.26</td>\n",
       "      <td>126425.51</td>\n",
       "      <td>NaN</td>\n",
       "      <td>NaN</td>\n",
       "      <td>NaN</td>\n",
       "      <td>NaN</td>\n",
       "      <td>NaN</td>\n",
       "      <td>NaN</td>\n",
       "      <td>NaN</td>\n",
       "    </tr>\n",
       "    <tr>\n",
       "      <th>CUMMINS INDIA LTD</th>\n",
       "      <td>INE298A01020</td>\n",
       "      <td>100.0</td>\n",
       "      <td>911.20</td>\n",
       "      <td>91120.00</td>\n",
       "      <td>NaN</td>\n",
       "      <td>NaN</td>\n",
       "      <td>NaN</td>\n",
       "      <td>NaN</td>\n",
       "      <td>NaN</td>\n",
       "      <td>NaN</td>\n",
       "      <td>NaN</td>\n",
       "    </tr>\n",
       "    <tr>\n",
       "      <th>GODREJ PROPERTIES LTD</th>\n",
       "      <td>INE484J01027</td>\n",
       "      <td>250.0</td>\n",
       "      <td>375.54</td>\n",
       "      <td>93883.85</td>\n",
       "      <td>NaN</td>\n",
       "      <td>NaN</td>\n",
       "      <td>NaN</td>\n",
       "      <td>NaN</td>\n",
       "      <td>NaN</td>\n",
       "      <td>NaN</td>\n",
       "      <td>NaN</td>\n",
       "    </tr>\n",
       "    <tr>\n",
       "      <th>HCL TECHNOLOGIES LTD</th>\n",
       "      <td>INE860A01027</td>\n",
       "      <td>50.0</td>\n",
       "      <td>888.93</td>\n",
       "      <td>44446.73</td>\n",
       "      <td>NaN</td>\n",
       "      <td>NaN</td>\n",
       "      <td>NaN</td>\n",
       "      <td>NaN</td>\n",
       "      <td>NaN</td>\n",
       "      <td>NaN</td>\n",
       "      <td>NaN</td>\n",
       "    </tr>\n",
       "    <tr>\n",
       "      <th>ICICI BANK LTD.</th>\n",
       "      <td>INE090A01021</td>\n",
       "      <td>300.0</td>\n",
       "      <td>282.17</td>\n",
       "      <td>84650.52</td>\n",
       "      <td>NaN</td>\n",
       "      <td>NaN</td>\n",
       "      <td>NaN</td>\n",
       "      <td>NaN</td>\n",
       "      <td>NaN</td>\n",
       "      <td>NaN</td>\n",
       "      <td>NaN</td>\n",
       "    </tr>\n",
       "    <tr>\n",
       "      <th>INTELLECT DESIGN ARENA</th>\n",
       "      <td>INE306R01017</td>\n",
       "      <td>1700.0</td>\n",
       "      <td>132.67</td>\n",
       "      <td>225543.14</td>\n",
       "      <td>NaN</td>\n",
       "      <td>NaN</td>\n",
       "      <td>NaN</td>\n",
       "      <td>NaN</td>\n",
       "      <td>NaN</td>\n",
       "      <td>NaN</td>\n",
       "      <td>NaN</td>\n",
       "    </tr>\n",
       "    <tr>\n",
       "      <th>NMDC LTD.</th>\n",
       "      <td>INE584A01023</td>\n",
       "      <td>150.0</td>\n",
       "      <td>140.19</td>\n",
       "      <td>21028.76</td>\n",
       "      <td>NaN</td>\n",
       "      <td>NaN</td>\n",
       "      <td>NaN</td>\n",
       "      <td>NaN</td>\n",
       "      <td>NaN</td>\n",
       "      <td>NaN</td>\n",
       "      <td>NaN</td>\n",
       "    </tr>\n",
       "    <tr>\n",
       "      <th>OIL AND NATURAL GAS CORP.</th>\n",
       "      <td>INE213A01029</td>\n",
       "      <td>175.0</td>\n",
       "      <td>323.68</td>\n",
       "      <td>56643.25</td>\n",
       "      <td>NaN</td>\n",
       "      <td>NaN</td>\n",
       "      <td>NaN</td>\n",
       "      <td>NaN</td>\n",
       "      <td>NaN</td>\n",
       "      <td>NaN</td>\n",
       "      <td>NaN</td>\n",
       "    </tr>\n",
       "    <tr>\n",
       "      <th>PIRAMAL ENTERPRISES LTD</th>\n",
       "      <td>INE140A01024</td>\n",
       "      <td>50.0</td>\n",
       "      <td>1961.41</td>\n",
       "      <td>98070.66</td>\n",
       "      <td>NaN</td>\n",
       "      <td>NaN</td>\n",
       "      <td>NaN</td>\n",
       "      <td>NaN</td>\n",
       "      <td>NaN</td>\n",
       "      <td>NaN</td>\n",
       "      <td>NaN</td>\n",
       "    </tr>\n",
       "    <tr>\n",
       "      <th>PUNJAB NATIONAL BANK</th>\n",
       "      <td>INE160A01022</td>\n",
       "      <td>150.0</td>\n",
       "      <td>168.13</td>\n",
       "      <td>25219.26</td>\n",
       "      <td>NaN</td>\n",
       "      <td>NaN</td>\n",
       "      <td>NaN</td>\n",
       "      <td>NaN</td>\n",
       "      <td>NaN</td>\n",
       "      <td>NaN</td>\n",
       "      <td>NaN</td>\n",
       "    </tr>\n",
       "    <tr>\n",
       "      <th>QUICK HEAL TECH LTD</th>\n",
       "      <td>INE306L01010</td>\n",
       "      <td>500.0</td>\n",
       "      <td>276.89</td>\n",
       "      <td>138447.35</td>\n",
       "      <td>NaN</td>\n",
       "      <td>NaN</td>\n",
       "      <td>NaN</td>\n",
       "      <td>NaN</td>\n",
       "      <td>NaN</td>\n",
       "      <td>NaN</td>\n",
       "      <td>NaN</td>\n",
       "    </tr>\n",
       "    <tr>\n",
       "      <th>S H KELKAR AND CO. LTD.</th>\n",
       "      <td>INE500L01026</td>\n",
       "      <td>400.0</td>\n",
       "      <td>316.16</td>\n",
       "      <td>126465.76</td>\n",
       "      <td>NaN</td>\n",
       "      <td>NaN</td>\n",
       "      <td>NaN</td>\n",
       "      <td>NaN</td>\n",
       "      <td>NaN</td>\n",
       "      <td>NaN</td>\n",
       "      <td>NaN</td>\n",
       "    </tr>\n",
       "    <tr>\n",
       "      <th>SSLT</th>\n",
       "      <td>INE205A01025</td>\n",
       "      <td>175.0</td>\n",
       "      <td>209.44</td>\n",
       "      <td>36652.24</td>\n",
       "      <td>NaN</td>\n",
       "      <td>NaN</td>\n",
       "      <td>NaN</td>\n",
       "      <td>NaN</td>\n",
       "      <td>NaN</td>\n",
       "      <td>NaN</td>\n",
       "      <td>NaN</td>\n",
       "    </tr>\n",
       "    <tr>\n",
       "      <th>STATE BANK OF INDIA</th>\n",
       "      <td>INE062A01020</td>\n",
       "      <td>75.0</td>\n",
       "      <td>244.21</td>\n",
       "      <td>18315.98</td>\n",
       "      <td>NaN</td>\n",
       "      <td>NaN</td>\n",
       "      <td>NaN</td>\n",
       "      <td>NaN</td>\n",
       "      <td>NaN</td>\n",
       "      <td>NaN</td>\n",
       "      <td>NaN</td>\n",
       "    </tr>\n",
       "    <tr>\n",
       "      <th>SUN PHARMACEUTICAL IND L</th>\n",
       "      <td>INE044A01036</td>\n",
       "      <td>140.0</td>\n",
       "      <td>778.77</td>\n",
       "      <td>109027.99</td>\n",
       "      <td>NaN</td>\n",
       "      <td>NaN</td>\n",
       "      <td>NaN</td>\n",
       "      <td>NaN</td>\n",
       "      <td>NaN</td>\n",
       "      <td>NaN</td>\n",
       "      <td>NaN</td>\n",
       "    </tr>\n",
       "    <tr>\n",
       "      <th>TATA MOTORS LIMITED</th>\n",
       "      <td>INE155A01022</td>\n",
       "      <td>102.0</td>\n",
       "      <td>395.19</td>\n",
       "      <td>40308.90</td>\n",
       "      <td>NaN</td>\n",
       "      <td>NaN</td>\n",
       "      <td>NaN</td>\n",
       "      <td>NaN</td>\n",
       "      <td>NaN</td>\n",
       "      <td>NaN</td>\n",
       "      <td>NaN</td>\n",
       "    </tr>\n",
       "    <tr>\n",
       "      <th>TATA STEEL LIMITED</th>\n",
       "      <td>INE081A01012</td>\n",
       "      <td>125.0</td>\n",
       "      <td>241.37</td>\n",
       "      <td>30171.08</td>\n",
       "      <td>NaN</td>\n",
       "      <td>NaN</td>\n",
       "      <td>NaN</td>\n",
       "      <td>NaN</td>\n",
       "      <td>NaN</td>\n",
       "      <td>NaN</td>\n",
       "      <td>NaN</td>\n",
       "    </tr>\n",
       "    <tr>\n",
       "      <th>WIPRO LTD</th>\n",
       "      <td>INE075A01022</td>\n",
       "      <td>65.0</td>\n",
       "      <td>652.35</td>\n",
       "      <td>42402.58</td>\n",
       "      <td>NaN</td>\n",
       "      <td>NaN</td>\n",
       "      <td>NaN</td>\n",
       "      <td>NaN</td>\n",
       "      <td>NaN</td>\n",
       "      <td>NaN</td>\n",
       "      <td>NaN</td>\n",
       "    </tr>\n",
       "    <tr>\n",
       "      <th>NaN</th>\n",
       "      <td>NaN</td>\n",
       "      <td>NaN</td>\n",
       "      <td>1464376.77</td>\n",
       "      <td>NaN</td>\n",
       "      <td>NaN</td>\n",
       "      <td>NaN</td>\n",
       "      <td>NaN</td>\n",
       "      <td>NaN</td>\n",
       "      <td>NaN</td>\n",
       "      <td>NaN</td>\n",
       "      <td>NaN</td>\n",
       "    </tr>\n",
       "    <tr>\n",
       "      <th>Open Sell Position For Party ( C19423 )</th>\n",
       "      <td>NaN</td>\n",
       "      <td>NaN</td>\n",
       "      <td>NaN</td>\n",
       "      <td>NaN</td>\n",
       "      <td>NaN</td>\n",
       "      <td>NaN</td>\n",
       "      <td>NaN</td>\n",
       "      <td>NaN</td>\n",
       "      <td>NaN</td>\n",
       "      <td>NaN</td>\n",
       "      <td>NaN</td>\n",
       "    </tr>\n",
       "    <tr>\n",
       "      <th>INDIAN OIL CORP LTD</th>\n",
       "      <td>INE242A01010</td>\n",
       "      <td>0.0</td>\n",
       "      <td>0.00</td>\n",
       "      <td>0.00</td>\n",
       "      <td>750.0</td>\n",
       "      <td>353.33</td>\n",
       "      <td>264995.96</td>\n",
       "      <td>0.0</td>\n",
       "      <td>0.0</td>\n",
       "      <td>264995.96</td>\n",
       "      <td>0.00</td>\n",
       "    </tr>\n",
       "    <tr>\n",
       "      <th>TOTAL Open Sell Position For Party ( C19423 ) :-</th>\n",
       "      <td>NaN</td>\n",
       "      <td>0.0</td>\n",
       "      <td>0.00</td>\n",
       "      <td>NaN</td>\n",
       "      <td>750.0</td>\n",
       "      <td>264995.96</td>\n",
       "      <td>NaN</td>\n",
       "      <td>0.0</td>\n",
       "      <td>NaN</td>\n",
       "      <td>264995.96</td>\n",
       "      <td>0.00</td>\n",
       "    </tr>\n",
       "    <tr>\n",
       "      <th>Note: This report is Calculation for deriving profit and loss amount by FIFO method based purely on Trade data of BSE and NSE segment since April 2010 and not on Settlement Number, Settlement Type, Delivery Pay-in/Pay-out and Corporate Action.</th>\n",
       "      <td>NaN</td>\n",
       "      <td>NaN</td>\n",
       "      <td>NaN</td>\n",
       "      <td>NaN</td>\n",
       "      <td>NaN</td>\n",
       "      <td>NaN</td>\n",
       "      <td>NaN</td>\n",
       "      <td>NaN</td>\n",
       "      <td>NaN</td>\n",
       "      <td>NaN</td>\n",
       "      <td>NaN</td>\n",
       "    </tr>\n",
       "  </tbody>\n",
       "</table>\n",
       "<p>100 rows × 11 columns</p>\n",
       "</div>"
      ],
      "text/plain": [
       "                                                            IsIn  Buy Qty  \\\n",
       "Scrip Name                                                                  \n",
       "SPECULATION GAIN / LOSS For Party ( C19423 )                 NaN      NaN   \n",
       "ACC LIMITED                                         INE012A01025     75.0   \n",
       "APTECH LIMITED                                      INE266F01018   2903.0   \n",
       "AXIS BANK LIMITED                                   INE238A01034    300.0   \n",
       "BAJAJ AUTO LIMITED                                  INE917I01010     50.0   \n",
       "BEML LIMITED                                        INE258A01016    125.0   \n",
       "BHARAT PETROLEUM CORP LT                            INE029A01011    200.0   \n",
       "COLGATE PALMOLIVE LTD.                              INE259A01022    127.0   \n",
       "DEWAN HOUSING FIN CORP LT                           INE202B01012    500.0   \n",
       "GUJ NAR VAL FER & CHEM L                            INE113A01013   1400.0   \n",
       "INDIABULLS VENTURES LTD                             INE274G01010  13000.0   \n",
       "INDO COUNT INDUSTRIES LTD                           INE483B01018    150.0   \n",
       "INTELLECT DESIGN ARENA                              INE306R01017    500.0   \n",
       "JSW STEEL LIMITED                                   INE019A01020    100.0   \n",
       "JUBILANT FOODWORKS LTD                              INE797F01012    100.0   \n",
       "JUSTDIAL LTD.                                       INE599M01018    100.0   \n",
       "LUPIN LIMITED                                       INE326A01037    400.0   \n",
       "MAGMA FINCORP LIMITED                               INE511C01022   1000.0   \n",
       "MAHINDRA & MAHINDRA LTD                             INE101A01026    280.0   \n",
       "MAN INFRA LTD                                       INE949H01023   2500.0   \n",
       "MULTI COMMODITY EXCHANGE                            INE745G01035    100.0   \n",
       "NATCO PHARMA LTD.                                   INE987B01026    300.0   \n",
       "RAYMOND LTD                                         INE301A01014    100.0   \n",
       "SML ISUZU LIMITED                                   INE294B01019    200.0   \n",
       "TATA MOTORS LIMITED                                 INE155A01022    250.0   \n",
       "TATA STEEL LIMITED                                  INE081A01012    500.0   \n",
       "TITAGARH WAGONS LTD.                                INE615H01020   1000.0   \n",
       "VETO SWITCHGEAR CABLE LTD                           INE918N01018    800.0   \n",
       "TOTAL SPECULATION GAIN / LOSS For Party ( C1942...           NaN  27060.0   \n",
       "SHORT TERM GAIN / LOSS For Party ( C19423 )                  NaN      NaN   \n",
       "...                                                          ...      ...   \n",
       "SUN PHARMACEUTICAL IND L                            INE044A01036     50.0   \n",
       "TATA MOTORS LIMITED                                 INE155A01022     40.0   \n",
       "TATA STEEL LIMITED                                  INE081A01012     35.0   \n",
       "TOTAL LONG TERM GAIN / LOSS For Party ( C19423 ...           NaN    489.0   \n",
       "HOLDINGS For Party ( C19423 )                                NaN      NaN   \n",
       "BANK OF BARODA                                      INE028A01013    120.0   \n",
       "CIPLA LTD                                           INE059A01026     30.0   \n",
       "CONTAINER CORP OF IND LTD                           INE111A01017    100.0   \n",
       "CUMMINS INDIA LTD                                   INE298A01020    100.0   \n",
       "GODREJ PROPERTIES LTD                               INE484J01027    250.0   \n",
       "HCL TECHNOLOGIES LTD                                INE860A01027     50.0   \n",
       "ICICI BANK LTD.                                     INE090A01021    300.0   \n",
       "INTELLECT DESIGN ARENA                              INE306R01017   1700.0   \n",
       "NMDC LTD.                                           INE584A01023    150.0   \n",
       "OIL AND NATURAL GAS CORP.                           INE213A01029    175.0   \n",
       "PIRAMAL ENTERPRISES LTD                             INE140A01024     50.0   \n",
       "PUNJAB NATIONAL BANK                                INE160A01022    150.0   \n",
       "QUICK HEAL TECH LTD                                 INE306L01010    500.0   \n",
       "S H KELKAR AND CO. LTD.                             INE500L01026    400.0   \n",
       "SSLT                                                INE205A01025    175.0   \n",
       "STATE BANK OF INDIA                                 INE062A01020     75.0   \n",
       "SUN PHARMACEUTICAL IND L                            INE044A01036    140.0   \n",
       "TATA MOTORS LIMITED                                 INE155A01022    102.0   \n",
       "TATA STEEL LIMITED                                  INE081A01012    125.0   \n",
       "WIPRO LTD                                           INE075A01022     65.0   \n",
       "NaN                                                          NaN      NaN   \n",
       "Open Sell Position For Party ( C19423 )                      NaN      NaN   \n",
       "INDIAN OIL CORP LTD                                 INE242A01010      0.0   \n",
       "TOTAL Open Sell Position For Party ( C19423 ) :-             NaN      0.0   \n",
       "Note: This report is Calculation for deriving p...           NaN      NaN   \n",
       "\n",
       "                                                      Buy Rate    Buy Val  \\\n",
       "Scrip Name                                                                  \n",
       "SPECULATION GAIN / LOSS For Party ( C19423 )               NaN        NaN   \n",
       "ACC LIMITED                                            1546.99  116024.42   \n",
       "APTECH LIMITED                                           76.39  221771.70   \n",
       "AXIS BANK LIMITED                                       498.10  149429.76   \n",
       "BAJAJ AUTO LIMITED                                     2591.55  129577.73   \n",
       "BEML LIMITED                                            872.64  109080.51   \n",
       "BHARAT PETROLEUM CORP LT                               1000.12  200023.58   \n",
       "COLGATE PALMOLIVE LTD.                                  874.05  111004.63   \n",
       "DEWAN HOUSING FIN CORP LT                               202.70  101347.50   \n",
       "GUJ NAR VAL FER & CHEM L                                163.67  229132.47   \n",
       "INDIABULLS VENTURES LTD                                  29.41  382274.40   \n",
       "INDO COUNT INDUSTRIES LTD                               732.42  109863.18   \n",
       "INTELLECT DESIGN ARENA                                  214.38  107188.40   \n",
       "JSW STEEL LIMITED                                      1424.54  142453.50   \n",
       "JUBILANT FOODWORKS LTD                                 1051.51  105151.18   \n",
       "JUSTDIAL LTD.                                           665.63   66563.46   \n",
       "LUPIN LIMITED                                          1519.51  607804.68   \n",
       "MAGMA FINCORP LIMITED                                   105.06  105060.00   \n",
       "MAHINDRA & MAHINDRA LTD                                1342.67  375947.25   \n",
       "MAN INFRA LTD                                            49.13  122825.25   \n",
       "MULTI COMMODITY EXCHANGE                               1121.00  112099.72   \n",
       "NATCO PHARMA LTD.                                       457.55  137265.15   \n",
       "RAYMOND LTD                                             512.03   51203.06   \n",
       "SML ISUZU LIMITED                                      1176.07  235213.29   \n",
       "TATA MOTORS LIMITED                                     461.87  115467.90   \n",
       "TATA STEEL LIMITED                                      322.92  161459.65   \n",
       "TITAGARH WAGONS LTD.                                     92.81   92805.50   \n",
       "VETO SWITCHGEAR CABLE LTD                               124.81   99848.88   \n",
       "TOTAL SPECULATION GAIN / LOSS For Party ( C1942...  4497886.75        NaN   \n",
       "SHORT TERM GAIN / LOSS For Party ( C19423 )                NaN        NaN   \n",
       "...                                                        ...        ...   \n",
       "SUN PHARMACEUTICAL IND L                                930.32   46515.98   \n",
       "TATA MOTORS LIMITED                                     395.19   15807.41   \n",
       "TATA STEEL LIMITED                                      240.50    8417.40   \n",
       "TOTAL LONG TERM GAIN / LOSS For Party ( C19423 ...   205047.74        NaN   \n",
       "HOLDINGS For Party ( C19423 )                              NaN        NaN   \n",
       "BANK OF BARODA                                          308.03   36963.43   \n",
       "CIPLA LTD                                               619.66   18589.78   \n",
       "CONTAINER CORP OF IND LTD                              1264.26  126425.51   \n",
       "CUMMINS INDIA LTD                                       911.20   91120.00   \n",
       "GODREJ PROPERTIES LTD                                   375.54   93883.85   \n",
       "HCL TECHNOLOGIES LTD                                    888.93   44446.73   \n",
       "ICICI BANK LTD.                                         282.17   84650.52   \n",
       "INTELLECT DESIGN ARENA                                  132.67  225543.14   \n",
       "NMDC LTD.                                               140.19   21028.76   \n",
       "OIL AND NATURAL GAS CORP.                               323.68   56643.25   \n",
       "PIRAMAL ENTERPRISES LTD                                1961.41   98070.66   \n",
       "PUNJAB NATIONAL BANK                                    168.13   25219.26   \n",
       "QUICK HEAL TECH LTD                                     276.89  138447.35   \n",
       "S H KELKAR AND CO. LTD.                                 316.16  126465.76   \n",
       "SSLT                                                    209.44   36652.24   \n",
       "STATE BANK OF INDIA                                     244.21   18315.98   \n",
       "SUN PHARMACEUTICAL IND L                                778.77  109027.99   \n",
       "TATA MOTORS LIMITED                                     395.19   40308.90   \n",
       "TATA STEEL LIMITED                                      241.37   30171.08   \n",
       "WIPRO LTD                                               652.35   42402.58   \n",
       "NaN                                                 1464376.77        NaN   \n",
       "Open Sell Position For Party ( C19423 )                    NaN        NaN   \n",
       "INDIAN OIL CORP LTD                                       0.00       0.00   \n",
       "TOTAL Open Sell Position For Party ( C19423 ) :-          0.00        NaN   \n",
       "Note: This report is Calculation for deriving p...         NaN        NaN   \n",
       "\n",
       "                                                    Sell Qty   Sell Rate  \\\n",
       "Scrip Name                                                                 \n",
       "SPECULATION GAIN / LOSS For Party ( C19423 )             NaN         NaN   \n",
       "ACC LIMITED                                             75.0     1549.23   \n",
       "APTECH LIMITED                                        2903.0       76.86   \n",
       "AXIS BANK LIMITED                                      300.0      496.75   \n",
       "BAJAJ AUTO LIMITED                                      50.0     2593.22   \n",
       "BEML LIMITED                                           125.0      877.97   \n",
       "BHARAT PETROLEUM CORP LT                               200.0     1001.19   \n",
       "COLGATE PALMOLIVE LTD.                                 127.0      875.22   \n",
       "DEWAN HOUSING FIN CORP LT                              500.0      201.99   \n",
       "GUJ NAR VAL FER & CHEM L                              1400.0      164.78   \n",
       "INDIABULLS VENTURES LTD                              13000.0       29.37   \n",
       "INDO COUNT INDUSTRIES LTD                              150.0      739.45   \n",
       "INTELLECT DESIGN ARENA                                 500.0      215.69   \n",
       "JSW STEEL LIMITED                                      100.0     1426.07   \n",
       "JUBILANT FOODWORKS LTD                                 100.0     1049.68   \n",
       "JUSTDIAL LTD.                                          100.0      666.03   \n",
       "LUPIN LIMITED                                          400.0     1503.67   \n",
       "MAGMA FINCORP LIMITED                                 1000.0      105.95   \n",
       "MAHINDRA & MAHINDRA LTD                                280.0     1344.63   \n",
       "MAN INFRA LTD                                         2500.0       49.93   \n",
       "MULTI COMMODITY EXCHANGE                               100.0     1122.65   \n",
       "NATCO PHARMA LTD.                                      300.0      456.77   \n",
       "RAYMOND LTD                                            100.0      513.25   \n",
       "SML ISUZU LIMITED                                      200.0     1178.28   \n",
       "TATA MOTORS LIMITED                                    250.0      463.82   \n",
       "TATA STEEL LIMITED                                     500.0      325.72   \n",
       "TITAGARH WAGONS LTD.                                  1000.0       93.05   \n",
       "VETO SWITCHGEAR CABLE LTD                              800.0      128.81   \n",
       "TOTAL SPECULATION GAIN / LOSS For Party ( C1942...   27060.0  4505517.64   \n",
       "SHORT TERM GAIN / LOSS For Party ( C19423 )              NaN         NaN   \n",
       "...                                                      ...         ...   \n",
       "SUN PHARMACEUTICAL IND L                                50.0      779.64   \n",
       "TATA MOTORS LIMITED                                     40.0      575.51   \n",
       "TATA STEEL LIMITED                                      35.0      493.58   \n",
       "TOTAL LONG TERM GAIN / LOSS For Party ( C19423 ...     489.0   240434.23   \n",
       "HOLDINGS For Party ( C19423 )                            NaN         NaN   \n",
       "BANK OF BARODA                                           NaN         NaN   \n",
       "CIPLA LTD                                                NaN         NaN   \n",
       "CONTAINER CORP OF IND LTD                                NaN         NaN   \n",
       "CUMMINS INDIA LTD                                        NaN         NaN   \n",
       "GODREJ PROPERTIES LTD                                    NaN         NaN   \n",
       "HCL TECHNOLOGIES LTD                                     NaN         NaN   \n",
       "ICICI BANK LTD.                                          NaN         NaN   \n",
       "INTELLECT DESIGN ARENA                                   NaN         NaN   \n",
       "NMDC LTD.                                                NaN         NaN   \n",
       "OIL AND NATURAL GAS CORP.                                NaN         NaN   \n",
       "PIRAMAL ENTERPRISES LTD                                  NaN         NaN   \n",
       "PUNJAB NATIONAL BANK                                     NaN         NaN   \n",
       "QUICK HEAL TECH LTD                                      NaN         NaN   \n",
       "S H KELKAR AND CO. LTD.                                  NaN         NaN   \n",
       "SSLT                                                     NaN         NaN   \n",
       "STATE BANK OF INDIA                                      NaN         NaN   \n",
       "SUN PHARMACEUTICAL IND L                                 NaN         NaN   \n",
       "TATA MOTORS LIMITED                                      NaN         NaN   \n",
       "TATA STEEL LIMITED                                       NaN         NaN   \n",
       "WIPRO LTD                                                NaN         NaN   \n",
       "NaN                                                      NaN         NaN   \n",
       "Open Sell Position For Party ( C19423 )                  NaN         NaN   \n",
       "INDIAN OIL CORP LTD                                    750.0      353.33   \n",
       "TOTAL Open Sell Position For Party ( C19423 ) :-       750.0   264995.96   \n",
       "Note: This report is Calculation for deriving p...       NaN         NaN   \n",
       "\n",
       "                                                     Sell Val  Cl Rate  \\\n",
       "Scrip Name                                                               \n",
       "SPECULATION GAIN / LOSS For Party ( C19423 )              NaN      NaN   \n",
       "ACC LIMITED                                         116192.34      0.0   \n",
       "APTECH LIMITED                                      223111.58      0.0   \n",
       "AXIS BANK LIMITED                                   149023.83      0.0   \n",
       "BAJAJ AUTO LIMITED                                  129660.93      0.0   \n",
       "BEML LIMITED                                        109745.93      0.0   \n",
       "BHARAT PETROLEUM CORP LT                            200237.42      0.0   \n",
       "COLGATE PALMOLIVE LTD.                              111153.05      0.0   \n",
       "DEWAN HOUSING FIN CORP LT                           100993.70      0.0   \n",
       "GUJ NAR VAL FER & CHEM L                            230693.75      0.0   \n",
       "INDIABULLS VENTURES LTD                             381836.60      0.0   \n",
       "INDO COUNT INDUSTRIES LTD                           110917.14      0.0   \n",
       "INTELLECT DESIGN ARENA                              107842.60      0.0   \n",
       "JSW STEEL LIMITED                                   142606.58      0.0   \n",
       "JUBILANT FOODWORKS LTD                              104967.53      0.0   \n",
       "JUSTDIAL LTD.                                        66602.66      0.0   \n",
       "LUPIN LIMITED                                       601467.68      0.0   \n",
       "MAGMA FINCORP LIMITED                               105945.70      0.0   \n",
       "MAHINDRA & MAHINDRA LTD                             376497.73      0.0   \n",
       "MAN INFRA LTD                                       124823.75      0.0   \n",
       "MULTI COMMODITY EXCHANGE                            112265.33      0.0   \n",
       "NATCO PHARMA LTD.                                   137030.61      0.0   \n",
       "RAYMOND LTD                                          51324.82      0.0   \n",
       "SML ISUZU LIMITED                                   235655.62      0.0   \n",
       "TATA MOTORS LIMITED                                 115955.55      0.0   \n",
       "TATA STEEL LIMITED                                  162862.15      0.0   \n",
       "TITAGARH WAGONS LTD.                                 93053.30      0.0   \n",
       "VETO SWITCHGEAR CABLE LTD                           103049.76      0.0   \n",
       "TOTAL SPECULATION GAIN / LOSS For Party ( C1942...        NaN      0.0   \n",
       "SHORT TERM GAIN / LOSS For Party ( C19423 )               NaN      NaN   \n",
       "...                                                       ...      ...   \n",
       "SUN PHARMACEUTICAL IND L                             38982.06      0.0   \n",
       "TATA MOTORS LIMITED                                  23020.48      0.0   \n",
       "TATA STEEL LIMITED                                   17275.15      0.0   \n",
       "TOTAL LONG TERM GAIN / LOSS For Party ( C19423 ...        NaN      0.0   \n",
       "HOLDINGS For Party ( C19423 )                             NaN      NaN   \n",
       "BANK OF BARODA                                            NaN      NaN   \n",
       "CIPLA LTD                                                 NaN      NaN   \n",
       "CONTAINER CORP OF IND LTD                                 NaN      NaN   \n",
       "CUMMINS INDIA LTD                                         NaN      NaN   \n",
       "GODREJ PROPERTIES LTD                                     NaN      NaN   \n",
       "HCL TECHNOLOGIES LTD                                      NaN      NaN   \n",
       "ICICI BANK LTD.                                           NaN      NaN   \n",
       "INTELLECT DESIGN ARENA                                    NaN      NaN   \n",
       "NMDC LTD.                                                 NaN      NaN   \n",
       "OIL AND NATURAL GAS CORP.                                 NaN      NaN   \n",
       "PIRAMAL ENTERPRISES LTD                                   NaN      NaN   \n",
       "PUNJAB NATIONAL BANK                                      NaN      NaN   \n",
       "QUICK HEAL TECH LTD                                       NaN      NaN   \n",
       "S H KELKAR AND CO. LTD.                                   NaN      NaN   \n",
       "SSLT                                                      NaN      NaN   \n",
       "STATE BANK OF INDIA                                       NaN      NaN   \n",
       "SUN PHARMACEUTICAL IND L                                  NaN      NaN   \n",
       "TATA MOTORS LIMITED                                       NaN      NaN   \n",
       "TATA STEEL LIMITED                                        NaN      NaN   \n",
       "WIPRO LTD                                                 NaN      NaN   \n",
       "NaN                                                       NaN      NaN   \n",
       "Open Sell Position For Party ( C19423 )                   NaN      NaN   \n",
       "INDIAN OIL CORP LTD                                 264995.96      0.0   \n",
       "TOTAL Open Sell Position For Party ( C19423 ) :-          NaN      0.0   \n",
       "Note: This report is Calculation for deriving p...        NaN      NaN   \n",
       "\n",
       "                                                    Cl Val  Profit & Loss  \\\n",
       "Scrip Name                                                                  \n",
       "SPECULATION GAIN / LOSS For Party ( C19423 )           NaN            NaN   \n",
       "ACC LIMITED                                            0.0         167.92   \n",
       "APTECH LIMITED                                         0.0        1339.88   \n",
       "AXIS BANK LIMITED                                      0.0        -405.93   \n",
       "BAJAJ AUTO LIMITED                                     0.0          83.20   \n",
       "BEML LIMITED                                           0.0         665.41   \n",
       "BHARAT PETROLEUM CORP LT                               0.0         213.84   \n",
       "COLGATE PALMOLIVE LTD.                                 0.0         148.42   \n",
       "DEWAN HOUSING FIN CORP LT                              0.0        -353.80   \n",
       "GUJ NAR VAL FER & CHEM L                               0.0        1561.28   \n",
       "INDIABULLS VENTURES LTD                                0.0        -437.80   \n",
       "INDO COUNT INDUSTRIES LTD                              0.0        1053.96   \n",
       "INTELLECT DESIGN ARENA                                 0.0         654.20   \n",
       "JSW STEEL LIMITED                                      0.0         153.08   \n",
       "JUBILANT FOODWORKS LTD                                 0.0        -183.65   \n",
       "JUSTDIAL LTD.                                          0.0          39.20   \n",
       "LUPIN LIMITED                                          0.0       -6337.00   \n",
       "MAGMA FINCORP LIMITED                                  0.0         885.70   \n",
       "MAHINDRA & MAHINDRA LTD                                0.0         550.48   \n",
       "MAN INFRA LTD                                          0.0        1998.50   \n",
       "MULTI COMMODITY EXCHANGE                               0.0         165.61   \n",
       "NATCO PHARMA LTD.                                      0.0        -234.54   \n",
       "RAYMOND LTD                                            0.0         121.76   \n",
       "SML ISUZU LIMITED                                      0.0         442.33   \n",
       "TATA MOTORS LIMITED                                    0.0         487.65   \n",
       "TATA STEEL LIMITED                                     0.0        1402.50   \n",
       "TITAGARH WAGONS LTD.                                   0.0         247.80   \n",
       "VETO SWITCHGEAR CABLE LTD                              0.0        3200.88   \n",
       "TOTAL SPECULATION GAIN / LOSS For Party ( C1942...     NaN        7630.88   \n",
       "SHORT TERM GAIN / LOSS For Party ( C19423 )            NaN            NaN   \n",
       "...                                                    ...            ...   \n",
       "SUN PHARMACEUTICAL IND L                               0.0       -7533.92   \n",
       "TATA MOTORS LIMITED                                    0.0        7213.06   \n",
       "TATA STEEL LIMITED                                     0.0        8857.75   \n",
       "TOTAL LONG TERM GAIN / LOSS For Party ( C19423 ...     NaN       35386.49   \n",
       "HOLDINGS For Party ( C19423 )                          NaN            NaN   \n",
       "BANK OF BARODA                                         NaN            NaN   \n",
       "CIPLA LTD                                              NaN            NaN   \n",
       "CONTAINER CORP OF IND LTD                              NaN            NaN   \n",
       "CUMMINS INDIA LTD                                      NaN            NaN   \n",
       "GODREJ PROPERTIES LTD                                  NaN            NaN   \n",
       "HCL TECHNOLOGIES LTD                                   NaN            NaN   \n",
       "ICICI BANK LTD.                                        NaN            NaN   \n",
       "INTELLECT DESIGN ARENA                                 NaN            NaN   \n",
       "NMDC LTD.                                              NaN            NaN   \n",
       "OIL AND NATURAL GAS CORP.                              NaN            NaN   \n",
       "PIRAMAL ENTERPRISES LTD                                NaN            NaN   \n",
       "PUNJAB NATIONAL BANK                                   NaN            NaN   \n",
       "QUICK HEAL TECH LTD                                    NaN            NaN   \n",
       "S H KELKAR AND CO. LTD.                                NaN            NaN   \n",
       "SSLT                                                   NaN            NaN   \n",
       "STATE BANK OF INDIA                                    NaN            NaN   \n",
       "SUN PHARMACEUTICAL IND L                               NaN            NaN   \n",
       "TATA MOTORS LIMITED                                    NaN            NaN   \n",
       "TATA STEEL LIMITED                                     NaN            NaN   \n",
       "WIPRO LTD                                              NaN            NaN   \n",
       "NaN                                                    NaN            NaN   \n",
       "Open Sell Position For Party ( C19423 )                NaN            NaN   \n",
       "INDIAN OIL CORP LTD                                    0.0      264995.96   \n",
       "TOTAL Open Sell Position For Party ( C19423 ) :-       NaN      264995.96   \n",
       "Note: This report is Calculation for deriving p...     NaN            NaN   \n",
       "\n",
       "                                                    Income Tax  \n",
       "Scrip Name                                                      \n",
       "SPECULATION GAIN / LOSS For Party ( C19423 )               NaN  \n",
       "ACC LIMITED                                              50.38  \n",
       "APTECH LIMITED                                          401.96  \n",
       "AXIS BANK LIMITED                                      -121.78  \n",
       "BAJAJ AUTO LIMITED                                       24.96  \n",
       "BEML LIMITED                                            199.62  \n",
       "BHARAT PETROLEUM CORP LT                                 64.15  \n",
       "COLGATE PALMOLIVE LTD.                                   44.53  \n",
       "DEWAN HOUSING FIN CORP LT                              -106.14  \n",
       "GUJ NAR VAL FER & CHEM L                                468.38  \n",
       "INDIABULLS VENTURES LTD                                -131.34  \n",
       "INDO COUNT INDUSTRIES LTD                               316.19  \n",
       "INTELLECT DESIGN ARENA                                  196.26  \n",
       "JSW STEEL LIMITED                                        45.92  \n",
       "JUBILANT FOODWORKS LTD                                  -55.10  \n",
       "JUSTDIAL LTD.                                            11.76  \n",
       "LUPIN LIMITED                                         -1901.10  \n",
       "MAGMA FINCORP LIMITED                                   265.71  \n",
       "MAHINDRA & MAHINDRA LTD                                 165.14  \n",
       "MAN INFRA LTD                                           599.55  \n",
       "MULTI COMMODITY EXCHANGE                                 49.68  \n",
       "NATCO PHARMA LTD.                                       -70.36  \n",
       "RAYMOND LTD                                              36.53  \n",
       "SML ISUZU LIMITED                                       132.70  \n",
       "TATA MOTORS LIMITED                                     146.30  \n",
       "TATA STEEL LIMITED                                      420.75  \n",
       "TITAGARH WAGONS LTD.                                     74.34  \n",
       "VETO SWITCHGEAR CABLE LTD                               960.26  \n",
       "TOTAL SPECULATION GAIN / LOSS For Party ( C1942...     2289.25  \n",
       "SHORT TERM GAIN / LOSS For Party ( C19423 )                NaN  \n",
       "...                                                        ...  \n",
       "SUN PHARMACEUTICAL IND L                                  0.00  \n",
       "TATA MOTORS LIMITED                                       0.00  \n",
       "TATA STEEL LIMITED                                        0.00  \n",
       "TOTAL LONG TERM GAIN / LOSS For Party ( C19423 ...        0.00  \n",
       "HOLDINGS For Party ( C19423 )                              NaN  \n",
       "BANK OF BARODA                                             NaN  \n",
       "CIPLA LTD                                                  NaN  \n",
       "CONTAINER CORP OF IND LTD                                  NaN  \n",
       "CUMMINS INDIA LTD                                          NaN  \n",
       "GODREJ PROPERTIES LTD                                      NaN  \n",
       "HCL TECHNOLOGIES LTD                                       NaN  \n",
       "ICICI BANK LTD.                                            NaN  \n",
       "INTELLECT DESIGN ARENA                                     NaN  \n",
       "NMDC LTD.                                                  NaN  \n",
       "OIL AND NATURAL GAS CORP.                                  NaN  \n",
       "PIRAMAL ENTERPRISES LTD                                    NaN  \n",
       "PUNJAB NATIONAL BANK                                       NaN  \n",
       "QUICK HEAL TECH LTD                                        NaN  \n",
       "S H KELKAR AND CO. LTD.                                    NaN  \n",
       "SSLT                                                       NaN  \n",
       "STATE BANK OF INDIA                                        NaN  \n",
       "SUN PHARMACEUTICAL IND L                                   NaN  \n",
       "TATA MOTORS LIMITED                                        NaN  \n",
       "TATA STEEL LIMITED                                         NaN  \n",
       "WIPRO LTD                                                  NaN  \n",
       "NaN                                                        NaN  \n",
       "Open Sell Position For Party ( C19423 )                    NaN  \n",
       "INDIAN OIL CORP LTD                                       0.00  \n",
       "TOTAL Open Sell Position For Party ( C19423 ) :-          0.00  \n",
       "Note: This report is Calculation for deriving p...         NaN  \n",
       "\n",
       "[100 rows x 11 columns]"
      ]
     },
     "execution_count": 171,
     "metadata": {},
     "output_type": "execute_result"
    }
   ],
   "source": [
    "df_ex = pd.read_excel(\"UPEN___CHANDAN.xls\",skiprows=11, index_col='Scrip Name')\n",
    "df_ex.columns[0:11]\n",
    "#df_ex\n",
    "#df_ex.dropna(subset=df_ex.columns, how=\"all\")\n",
    "df_ex.dropna(subset=df_ex.columns[[0,3,6,8]], how=\"all\").fillna(0).head(10)\n",
    "df_ex.iloc[0:]"
   ]
  },
  {
   "cell_type": "code",
   "execution_count": 222,
   "metadata": {},
   "outputs": [
    {
     "data": {
      "text/plain": [
       "1452"
      ]
     },
     "execution_count": 222,
     "metadata": {},
     "output_type": "execute_result"
    }
   ],
   "source": [
    "df_ex2 = pd.read_excel(\"UPEN___CHANDAN.xls\", sheetname=None, skiprows=11, index_col=0)\n",
    "type(df_ex2)\n",
    "df_ex2[\"Chandan\"]\n",
    "\n",
    "df_all = pd.DataFrame()\n",
    "\n",
    "for (name, sheet) in df_ex2.items():\n",
    "    #sheet.set_index(\"Scrip Name\", inplace=True)\n",
    "    #print(sheet)\n",
    "    #sheet.dropna(subset=sheet.columns[[0,3,6,8]], how=\"all\").fillna(0)\n",
    "    df_curr = sheet.dropna().fillna(0)\n",
    "    #print(df_curr)\n",
    "    df_all = df_all.append(df_curr)\n",
    "    \n",
    "#df_all.sort_index()\n",
    "df_all.size\n"
   ]
  },
  {
   "cell_type": "code",
   "execution_count": 223,
   "metadata": {},
   "outputs": [],
   "source": [
    "writer = pd.ExcelWriter(\"full_excel.xls\")  #overwrites file if it exists\n",
    "df_all.to_excel(writer, \"all_scrips\")    #Little strange. writer object is modified here, but its on the right side\n",
    "writer.save()   #actual file is not written unless save() method on writer is called."
   ]
  },
  {
   "cell_type": "code",
   "execution_count": 206,
   "metadata": {},
   "outputs": [
    {
     "data": {
      "text/plain": [
       "'D:\\\\upx_notebooks\\\\Excels'"
      ]
     },
     "execution_count": 206,
     "metadata": {},
     "output_type": "execute_result"
    }
   ],
   "source": [
    "os.getcwd()"
   ]
  },
  {
   "cell_type": "code",
   "execution_count": 225,
   "metadata": {},
   "outputs": [],
   "source": [
    "with pd.ExcelWriter('ful_excel2.xlsx') as writer:`\n",
    "    df_all.to_excel(writer, sheet_name='Sheet1')\n",
    "    df_ex.to_excel(writer, sheet_name='Sheet2')"
   ]
  },
  {
   "cell_type": "code",
   "execution_count": 226,
   "metadata": {},
   "outputs": [],
   "source": [
    "x = set(\"Upen Bendre\")"
   ]
  },
  {
   "cell_type": "code",
   "execution_count": 227,
   "metadata": {},
   "outputs": [
    {
     "data": {
      "text/plain": [
       "{' ', 'B', 'U', 'd', 'e', 'n', 'p', 'r'}"
      ]
     },
     "execution_count": 227,
     "metadata": {},
     "output_type": "execute_result"
    }
   ],
   "source": [
    "x  #Automatically set becomes list of singularized elements"
   ]
  },
  {
   "cell_type": "code",
   "execution_count": 228,
   "metadata": {},
   "outputs": [],
   "source": [
    "x.remove('B')   #Remove elements"
   ]
  },
  {
   "cell_type": "code",
   "execution_count": 229,
   "metadata": {},
   "outputs": [
    {
     "data": {
      "text/plain": [
       "{' ', 'U', 'd', 'e', 'n', 'p', 'r'}"
      ]
     },
     "execution_count": 229,
     "metadata": {},
     "output_type": "execute_result"
    }
   ],
   "source": [
    "x"
   ]
  },
  {
   "cell_type": "code",
   "execution_count": 230,
   "metadata": {},
   "outputs": [],
   "source": [
    "x.add(\"b\")   #Add elements"
   ]
  },
  {
   "cell_type": "code",
   "execution_count": 231,
   "metadata": {},
   "outputs": [],
   "source": [
    "x = set(\"Keya Bendre\")   #Make the set pointer, point to another set (this is not modifying a set)"
   ]
  },
  {
   "cell_type": "code",
   "execution_count": 232,
   "metadata": {},
   "outputs": [
    {
     "ename": "TypeError",
     "evalue": "'set' object does not support item assignment",
     "output_type": "error",
     "traceback": [
      "\u001b[1;31m---------------------------------------------------------------------------\u001b[0m",
      "\u001b[1;31mTypeError\u001b[0m                                 Traceback (most recent call last)",
      "\u001b[1;32m<ipython-input-232-97826e35ae3e>\u001b[0m in \u001b[0;36m<module>\u001b[1;34m()\u001b[0m\n\u001b[1;32m----> 1\u001b[1;33m \u001b[0mx\u001b[0m\u001b[1;33m[\u001b[0m\u001b[1;36m0\u001b[0m\u001b[1;33m]\u001b[0m \u001b[1;33m=\u001b[0m \u001b[1;34m'k'\u001b[0m\u001b[1;33m\u001b[0m\u001b[0m\n\u001b[0m",
      "\u001b[1;31mTypeError\u001b[0m: 'set' object does not support item assignment"
     ]
    }
   ],
   "source": [
    "x[0] = 'k'   #Cannot point to a specific element in Set and modify"
   ]
  },
  {
   "cell_type": "code",
   "execution_count": 233,
   "metadata": {},
   "outputs": [
    {
     "ename": "TypeError",
     "evalue": "set expected at most 1 arguments, got 2",
     "output_type": "error",
     "traceback": [
      "\u001b[1;31m---------------------------------------------------------------------------\u001b[0m",
      "\u001b[1;31mTypeError\u001b[0m                                 Traceback (most recent call last)",
      "\u001b[1;32m<ipython-input-233-db0690c50ee1>\u001b[0m in \u001b[0;36m<module>\u001b[1;34m()\u001b[0m\n\u001b[1;32m----> 1\u001b[1;33m \u001b[0mx1\u001b[0m \u001b[1;33m=\u001b[0m \u001b[0mset\u001b[0m\u001b[1;33m(\u001b[0m\u001b[1;33m[\u001b[0m\u001b[1;36m1\u001b[0m\u001b[1;33m,\u001b[0m\u001b[1;36m2\u001b[0m\u001b[1;33m,\u001b[0m\u001b[1;36m3\u001b[0m\u001b[1;33m]\u001b[0m\u001b[1;33m,\u001b[0m\u001b[1;33m[\u001b[0m\u001b[1;36m4\u001b[0m\u001b[1;33m,\u001b[0m\u001b[1;36m5\u001b[0m\u001b[1;33m]\u001b[0m\u001b[1;33m)\u001b[0m\u001b[1;33m\u001b[0m\u001b[0m\n\u001b[0m",
      "\u001b[1;31mTypeError\u001b[0m: set expected at most 1 arguments, got 2"
     ]
    }
   ],
   "source": [
    "x1 = set([1,2,3],[4,5])  #Cannot have multiple lists in a set since they are not hashable"
   ]
  },
  {
   "cell_type": "code",
   "execution_count": 234,
   "metadata": {},
   "outputs": [
    {
     "data": {
      "text/plain": [
       "{'K', 'y'}"
      ]
     },
     "execution_count": 234,
     "metadata": {},
     "output_type": "execute_result"
    }
   ],
   "source": [
    "y = set(\"Chandan Bendre\")\n",
    "x.difference(y)"
   ]
  },
  {
   "cell_type": "code",
   "execution_count": 235,
   "metadata": {},
   "outputs": [],
   "source": [
    "z = frozenset(\"Upen Bendre\")"
   ]
  },
  {
   "cell_type": "code",
   "execution_count": 236,
   "metadata": {},
   "outputs": [
    {
     "data": {
      "text/plain": [
       "frozenset({'U', 'p'})"
      ]
     },
     "execution_count": 236,
     "metadata": {},
     "output_type": "execute_result"
    }
   ],
   "source": [
    "z.difference(x)"
   ]
  },
  {
   "cell_type": "code",
   "execution_count": 237,
   "metadata": {},
   "outputs": [
    {
     "data": {
      "text/plain": [
       "[1, 4, 9, 16, 25, 36, 49, 64, 81, 100]"
      ]
     },
     "execution_count": 237,
     "metadata": {},
     "output_type": "execute_result"
    }
   ],
   "source": [
    "[i**2 for i in range(1,11)]"
   ]
  },
  {
   "cell_type": "code",
   "execution_count": 239,
   "metadata": {},
   "outputs": [
    {
     "data": {
      "text/plain": [
       "[(3, 4, 5), (4, 3, 5)]"
      ]
     },
     "execution_count": 239,
     "metadata": {},
     "output_type": "execute_result"
    }
   ],
   "source": [
    "# x^2 + y^2 = z^2\n",
    "[(x,y,z) for x in range(1,10) for y in range(1,10) for z in range(1,10) if x**2 + y**2 == z**2]"
   ]
  },
  {
   "cell_type": "code",
   "execution_count": 249,
   "metadata": {},
   "outputs": [
    {
     "name": "stdout",
     "output_type": "stream",
     "text": [
      "[2, 4, 6, 8, 10]\n",
      "[False, False, False, True, True]\n"
     ]
    },
    {
     "data": {
      "text/plain": [
       "15"
      ]
     },
     "execution_count": 249,
     "metadata": {},
     "output_type": "execute_result"
    }
   ],
   "source": [
    "a = [1,2,3,4,5]\n",
    "b = [3,2,1,4,2]\n",
    "c = [8,6,7,3,1]\n",
    "fm = map(lambda x: x*2, a)\n",
    "print(list(fm))\n",
    "fmm = map(lambda x,y,z: x+y>z, a,b,c)\n",
    "print(list(fmm))\n",
    "from functools import reduce\n",
    "sm = reduce(lambda x,y: x+y, a)\n",
    "sm"
   ]
  },
  {
   "cell_type": "code",
   "execution_count": 250,
   "metadata": {},
   "outputs": [
    {
     "data": {
      "text/plain": [
       "'\\nimport xyz as p\\nmeans that you will import package xyz and address it as p. \\n\\nfrom xyz import func1\\nmeans that you imported only function func1 from package xyz. Now func1 can be addressed directly in the program.\\nThe downside is that if you had a func1 function in your own program, it will not be referred to.\\nInstead the func1 from xyz is referred when you say func1\\n'"
      ]
     },
     "execution_count": 250,
     "metadata": {},
     "output_type": "execute_result"
    }
   ],
   "source": [
    "\"\"\"\n",
    "import xyz as p\n",
    "means that you will import package xyz and address it as p. \n",
    "\n",
    "from xyz import func1\n",
    "means that you imported only function func1 from package xyz. Now func1 can be addressed directly in the program.\n",
    "The downside is that if you had a func1 function in your own program, it will not be referred to.\n",
    "Instead the func1 from xyz is referred when you say func1\n",
    "\"\"\"\n"
   ]
  },
  {
   "cell_type": "code",
   "execution_count": 253,
   "metadata": {},
   "outputs": [
    {
     "data": {
      "text/plain": [
       "array([[45, 47, 42, 47, 45],\n",
       "       [49, 45, 42, 47, 48],\n",
       "       [40, 41, 46, 40, 41],\n",
       "       [43, 45, 47, 41, 47],\n",
       "       [41, 43, 44, 43, 41]])"
      ]
     },
     "execution_count": 253,
     "metadata": {},
     "output_type": "execute_result"
    }
   ],
   "source": [
    "np.random.randint(40,50,size=(5,5))  #random integer array of 5x5 with numbers between 40 and 50"
   ]
  },
  {
   "cell_type": "code",
   "execution_count": 255,
   "metadata": {},
   "outputs": [
    {
     "data": {
      "text/plain": [
       "array([[[-0.45943735, -0.61407168, -0.07321967, -0.45551704,  0.06969222],\n",
       "        [ 0.17714754, -2.55895198, -0.91323618,  0.91685724, -1.10564981],\n",
       "        [ 0.3619846 ,  2.36061833,  0.62982836, -0.31540372,  0.23575052],\n",
       "        [-0.54930227, -0.51397899, -0.20676682, -0.18803282,  0.38048933]],\n",
       "\n",
       "       [[ 0.31851467, -0.99394836,  0.29255195, -0.84103745,  0.28536107],\n",
       "        [ 1.29064849,  1.03086626,  0.63683496, -0.84621238,  2.17214984],\n",
       "        [-2.35938197,  0.62520342, -0.68547874,  1.15494676,  1.32981737],\n",
       "        [-2.1138886 ,  1.04110692,  0.31564679, -0.58351113,  0.55520094]],\n",
       "\n",
       "       [[-0.69020603,  0.28614187,  0.39064592,  0.27325379,  0.14265285],\n",
       "        [-0.25686161,  0.44480369,  1.83939281, -0.75976978,  0.88236111],\n",
       "        [ 0.71819958,  0.92622565,  0.95728298, -0.26260857, -0.82413373],\n",
       "        [ 0.27229416, -0.62882126, -0.11957026, -0.86882053,  0.30907714]]])"
      ]
     },
     "execution_count": 255,
     "metadata": {},
     "output_type": "execute_result"
    }
   ],
   "source": [
    "np.random.randn(3,4,5)  # 3x4x5 array of random floating point numbers. ALl numbers falling in a normal dist of 0 to 1 probability"
   ]
  },
  {
   "cell_type": "code",
   "execution_count": 267,
   "metadata": {},
   "outputs": [
    {
     "data": {
      "text/html": [
       "<div>\n",
       "<style>\n",
       "    .dataframe thead tr:only-child th {\n",
       "        text-align: right;\n",
       "    }\n",
       "\n",
       "    .dataframe thead th {\n",
       "        text-align: left;\n",
       "    }\n",
       "\n",
       "    .dataframe tbody tr th {\n",
       "        vertical-align: top;\n",
       "    }\n",
       "</style>\n",
       "<table border=\"1\" class=\"dataframe\">\n",
       "  <thead>\n",
       "    <tr style=\"text-align: right;\">\n",
       "      <th></th>\n",
       "      <th>col1</th>\n",
       "      <th>col2</th>\n",
       "      <th>col3</th>\n",
       "      <th>col4</th>\n",
       "      <th>col5</th>\n",
       "    </tr>\n",
       "  </thead>\n",
       "  <tbody>\n",
       "    <tr>\n",
       "      <th>idx1</th>\n",
       "      <td>0</td>\n",
       "      <td>2</td>\n",
       "      <td>12</td>\n",
       "      <td>9</td>\n",
       "      <td>16</td>\n",
       "    </tr>\n",
       "    <tr>\n",
       "      <th>idx2</th>\n",
       "      <td>2</td>\n",
       "      <td>14</td>\n",
       "      <td>17</td>\n",
       "      <td>24</td>\n",
       "      <td>1</td>\n",
       "    </tr>\n",
       "    <tr>\n",
       "      <th>idx3</th>\n",
       "      <td>21</td>\n",
       "      <td>13</td>\n",
       "      <td>20</td>\n",
       "      <td>6</td>\n",
       "      <td>3</td>\n",
       "    </tr>\n",
       "    <tr>\n",
       "      <th>idx4</th>\n",
       "      <td>5</td>\n",
       "      <td>3</td>\n",
       "      <td>15</td>\n",
       "      <td>13</td>\n",
       "      <td>12</td>\n",
       "    </tr>\n",
       "    <tr>\n",
       "      <th>idx5</th>\n",
       "      <td>11</td>\n",
       "      <td>12</td>\n",
       "      <td>18</td>\n",
       "      <td>10</td>\n",
       "      <td>24</td>\n",
       "    </tr>\n",
       "  </tbody>\n",
       "</table>\n",
       "</div>"
      ],
      "text/plain": [
       "      col1  col2  col3  col4  col5\n",
       "idx1     0     2    12     9    16\n",
       "idx2     2    14    17    24     1\n",
       "idx3    21    13    20     6     3\n",
       "idx4     5     3    15    13    12\n",
       "idx5    11    12    18    10    24"
      ]
     },
     "execution_count": 267,
     "metadata": {},
     "output_type": "execute_result"
    }
   ],
   "source": [
    "dfe = pd.DataFrame(data=np.random.randint(25, size=(5,5)), \n",
    "                  index=['idx1','idx2','idx3','idx4','idx5'],\n",
    "                  columns=['col1','col2','col3','col4','col5'])\n",
    "dfe"
   ]
  },
  {
   "cell_type": "code",
   "execution_count": 268,
   "metadata": {},
   "outputs": [
    {
     "data": {
      "text/plain": [
       "12.0"
      ]
     },
     "execution_count": 268,
     "metadata": {},
     "output_type": "execute_result"
    }
   ],
   "source": [
    "np.linalg.norm(dfe['col1'].loc['idx1'] - dfe['col2'].loc['idx5'])   #Euclidian distance between two cells in dataframe"
   ]
  },
  {
   "cell_type": "code",
   "execution_count": 283,
   "metadata": {},
   "outputs": [],
   "source": [
    "import pymongo\n",
    "from pymongo import MongoClient\n",
    "client = MongoClient(host='cluster0-shard-00-00-jxeqq.mongodb.net', port=27017, username='m001-student', password='m001-mongodb-basics')"
   ]
  },
  {
   "cell_type": "code",
   "execution_count": 284,
   "metadata": {},
   "outputs": [],
   "source": [
    "db = client['coursera-agg']   #Just a handler created. No connection made yet"
   ]
  },
  {
   "cell_type": "code",
   "execution_count": 285,
   "metadata": {},
   "outputs": [],
   "source": [
    "coll = db['orders']   #Just a handler created. No connection made yet"
   ]
  },
  {
   "cell_type": "code",
   "execution_count": null,
   "metadata": {},
   "outputs": [],
   "source": []
  },
  {
   "cell_type": "code",
   "execution_count": 286,
   "metadata": {},
   "outputs": [],
   "source": [
    "import pprint   #Will be used for printing"
   ]
  },
  {
   "cell_type": "code",
   "execution_count": 287,
   "metadata": {},
   "outputs": [
    {
     "ename": "ServerSelectionTimeoutError",
     "evalue": "connection closed",
     "output_type": "error",
     "traceback": [
      "\u001b[1;31m---------------------------------------------------------------------------\u001b[0m",
      "\u001b[1;31mServerSelectionTimeoutError\u001b[0m               Traceback (most recent call last)",
      "\u001b[1;32m<ipython-input-287-5055ac7b69a2>\u001b[0m in \u001b[0;36m<module>\u001b[1;34m()\u001b[0m\n\u001b[1;32m----> 1\u001b[1;33m \u001b[0mcoll\u001b[0m\u001b[1;33m.\u001b[0m\u001b[0mfind_one\u001b[0m\u001b[1;33m(\u001b[0m\u001b[1;33m)\u001b[0m   \u001b[1;31m#Now actually attempts the database query\u001b[0m\u001b[1;33m\u001b[0m\u001b[0m\n\u001b[0m",
      "\u001b[1;32mC:\\Anaconda\\lib\\site-packages\\pymongo\\collection.py\u001b[0m in \u001b[0;36mfind_one\u001b[1;34m(self, filter, *args, **kwargs)\u001b[0m\n\u001b[0;32m   1222\u001b[0m \u001b[1;33m\u001b[0m\u001b[0m\n\u001b[0;32m   1223\u001b[0m         \u001b[0mcursor\u001b[0m \u001b[1;33m=\u001b[0m \u001b[0mself\u001b[0m\u001b[1;33m.\u001b[0m\u001b[0mfind\u001b[0m\u001b[1;33m(\u001b[0m\u001b[0mfilter\u001b[0m\u001b[1;33m,\u001b[0m \u001b[1;33m*\u001b[0m\u001b[0margs\u001b[0m\u001b[1;33m,\u001b[0m \u001b[1;33m**\u001b[0m\u001b[0mkwargs\u001b[0m\u001b[1;33m)\u001b[0m\u001b[1;33m\u001b[0m\u001b[0m\n\u001b[1;32m-> 1224\u001b[1;33m         \u001b[1;32mfor\u001b[0m \u001b[0mresult\u001b[0m \u001b[1;32min\u001b[0m \u001b[0mcursor\u001b[0m\u001b[1;33m.\u001b[0m\u001b[0mlimit\u001b[0m\u001b[1;33m(\u001b[0m\u001b[1;33m-\u001b[0m\u001b[1;36m1\u001b[0m\u001b[1;33m)\u001b[0m\u001b[1;33m:\u001b[0m\u001b[1;33m\u001b[0m\u001b[0m\n\u001b[0m\u001b[0;32m   1225\u001b[0m             \u001b[1;32mreturn\u001b[0m \u001b[0mresult\u001b[0m\u001b[1;33m\u001b[0m\u001b[0m\n\u001b[0;32m   1226\u001b[0m         \u001b[1;32mreturn\u001b[0m \u001b[1;32mNone\u001b[0m\u001b[1;33m\u001b[0m\u001b[0m\n",
      "\u001b[1;32mC:\\Anaconda\\lib\\site-packages\\pymongo\\cursor.py\u001b[0m in \u001b[0;36mnext\u001b[1;34m(self)\u001b[0m\n\u001b[0;32m   1174\u001b[0m         \u001b[1;32mif\u001b[0m \u001b[0mself\u001b[0m\u001b[1;33m.\u001b[0m\u001b[0m__empty\u001b[0m\u001b[1;33m:\u001b[0m\u001b[1;33m\u001b[0m\u001b[0m\n\u001b[0;32m   1175\u001b[0m             \u001b[1;32mraise\u001b[0m \u001b[0mStopIteration\u001b[0m\u001b[1;33m\u001b[0m\u001b[0m\n\u001b[1;32m-> 1176\u001b[1;33m         \u001b[1;32mif\u001b[0m \u001b[0mlen\u001b[0m\u001b[1;33m(\u001b[0m\u001b[0mself\u001b[0m\u001b[1;33m.\u001b[0m\u001b[0m__data\u001b[0m\u001b[1;33m)\u001b[0m \u001b[1;32mor\u001b[0m \u001b[0mself\u001b[0m\u001b[1;33m.\u001b[0m\u001b[0m_refresh\u001b[0m\u001b[1;33m(\u001b[0m\u001b[1;33m)\u001b[0m\u001b[1;33m:\u001b[0m\u001b[1;33m\u001b[0m\u001b[0m\n\u001b[0m\u001b[0;32m   1177\u001b[0m             \u001b[1;32mif\u001b[0m \u001b[0mself\u001b[0m\u001b[1;33m.\u001b[0m\u001b[0m__manipulate\u001b[0m\u001b[1;33m:\u001b[0m\u001b[1;33m\u001b[0m\u001b[0m\n\u001b[0;32m   1178\u001b[0m                 \u001b[0m_db\u001b[0m \u001b[1;33m=\u001b[0m \u001b[0mself\u001b[0m\u001b[1;33m.\u001b[0m\u001b[0m__collection\u001b[0m\u001b[1;33m.\u001b[0m\u001b[0mdatabase\u001b[0m\u001b[1;33m\u001b[0m\u001b[0m\n",
      "\u001b[1;32mC:\\Anaconda\\lib\\site-packages\\pymongo\\cursor.py\u001b[0m in \u001b[0;36m_refresh\u001b[1;34m(self)\u001b[0m\n\u001b[0;32m   1068\u001b[0m \u001b[1;33m\u001b[0m\u001b[0m\n\u001b[0;32m   1069\u001b[0m         \u001b[1;32mif\u001b[0m \u001b[1;32mnot\u001b[0m \u001b[0mself\u001b[0m\u001b[1;33m.\u001b[0m\u001b[0m__session\u001b[0m\u001b[1;33m:\u001b[0m\u001b[1;33m\u001b[0m\u001b[0m\n\u001b[1;32m-> 1070\u001b[1;33m             \u001b[0mself\u001b[0m\u001b[1;33m.\u001b[0m\u001b[0m__session\u001b[0m \u001b[1;33m=\u001b[0m \u001b[0mself\u001b[0m\u001b[1;33m.\u001b[0m\u001b[0m__collection\u001b[0m\u001b[1;33m.\u001b[0m\u001b[0mdatabase\u001b[0m\u001b[1;33m.\u001b[0m\u001b[0mclient\u001b[0m\u001b[1;33m.\u001b[0m\u001b[0m_ensure_session\u001b[0m\u001b[1;33m(\u001b[0m\u001b[1;33m)\u001b[0m\u001b[1;33m\u001b[0m\u001b[0m\n\u001b[0m\u001b[0;32m   1071\u001b[0m \u001b[1;33m\u001b[0m\u001b[0m\n\u001b[0;32m   1072\u001b[0m         \u001b[1;32mif\u001b[0m \u001b[0mself\u001b[0m\u001b[1;33m.\u001b[0m\u001b[0m__id\u001b[0m \u001b[1;32mis\u001b[0m \u001b[1;32mNone\u001b[0m\u001b[1;33m:\u001b[0m  \u001b[1;31m# Query\u001b[0m\u001b[1;33m\u001b[0m\u001b[0m\n",
      "\u001b[1;32mC:\\Anaconda\\lib\\site-packages\\pymongo\\mongo_client.py\u001b[0m in \u001b[0;36m_ensure_session\u001b[1;34m(self, session)\u001b[0m\n\u001b[0;32m   1389\u001b[0m             \u001b[1;31m# Don't make implied sessions causally consistent. Applications\u001b[0m\u001b[1;33m\u001b[0m\u001b[1;33m\u001b[0m\u001b[0m\n\u001b[0;32m   1390\u001b[0m             \u001b[1;31m# should always opt-in.\u001b[0m\u001b[1;33m\u001b[0m\u001b[1;33m\u001b[0m\u001b[0m\n\u001b[1;32m-> 1391\u001b[1;33m             \u001b[1;32mreturn\u001b[0m \u001b[0mself\u001b[0m\u001b[1;33m.\u001b[0m\u001b[0mstart_session\u001b[0m\u001b[1;33m(\u001b[0m\u001b[0mcausal_consistency\u001b[0m\u001b[1;33m=\u001b[0m\u001b[1;32mFalse\u001b[0m\u001b[1;33m)\u001b[0m\u001b[1;33m\u001b[0m\u001b[0m\n\u001b[0m\u001b[0;32m   1392\u001b[0m         \u001b[1;32mexcept\u001b[0m \u001b[1;33m(\u001b[0m\u001b[0mConfigurationError\u001b[0m\u001b[1;33m,\u001b[0m \u001b[0mInvalidOperation\u001b[0m\u001b[1;33m)\u001b[0m\u001b[1;33m:\u001b[0m\u001b[1;33m\u001b[0m\u001b[0m\n\u001b[0;32m   1393\u001b[0m             \u001b[1;31m# Sessions not supported, or multiple users authenticated.\u001b[0m\u001b[1;33m\u001b[0m\u001b[1;33m\u001b[0m\u001b[0m\n",
      "\u001b[1;32mC:\\Anaconda\\lib\\site-packages\\pymongo\\mongo_client.py\u001b[0m in \u001b[0;36mstart_session\u001b[1;34m(self, causal_consistency)\u001b[0m\n\u001b[0;32m   1367\u001b[0m \u001b[1;33m\u001b[0m\u001b[0m\n\u001b[0;32m   1368\u001b[0m         \u001b[1;31m# Raises ConfigurationError if sessions are not supported.\u001b[0m\u001b[1;33m\u001b[0m\u001b[1;33m\u001b[0m\u001b[0m\n\u001b[1;32m-> 1369\u001b[1;33m         \u001b[0mserver_session\u001b[0m \u001b[1;33m=\u001b[0m \u001b[0mself\u001b[0m\u001b[1;33m.\u001b[0m\u001b[0m_get_server_session\u001b[0m\u001b[1;33m(\u001b[0m\u001b[1;33m)\u001b[0m\u001b[1;33m\u001b[0m\u001b[0m\n\u001b[0m\u001b[0;32m   1370\u001b[0m         opts = client_session.SessionOptions(\n\u001b[0;32m   1371\u001b[0m             causal_consistency=causal_consistency)\n",
      "\u001b[1;32mC:\\Anaconda\\lib\\site-packages\\pymongo\\mongo_client.py\u001b[0m in \u001b[0;36m_get_server_session\u001b[1;34m(self)\u001b[0m\n\u001b[0;32m   1375\u001b[0m     \u001b[1;32mdef\u001b[0m \u001b[0m_get_server_session\u001b[0m\u001b[1;33m(\u001b[0m\u001b[0mself\u001b[0m\u001b[1;33m)\u001b[0m\u001b[1;33m:\u001b[0m\u001b[1;33m\u001b[0m\u001b[0m\n\u001b[0;32m   1376\u001b[0m         \u001b[1;34m\"\"\"Internal: start or resume a _ServerSession.\"\"\"\u001b[0m\u001b[1;33m\u001b[0m\u001b[0m\n\u001b[1;32m-> 1377\u001b[1;33m         \u001b[1;32mreturn\u001b[0m \u001b[0mself\u001b[0m\u001b[1;33m.\u001b[0m\u001b[0m_topology\u001b[0m\u001b[1;33m.\u001b[0m\u001b[0mget_server_session\u001b[0m\u001b[1;33m(\u001b[0m\u001b[1;33m)\u001b[0m\u001b[1;33m\u001b[0m\u001b[0m\n\u001b[0m\u001b[0;32m   1378\u001b[0m \u001b[1;33m\u001b[0m\u001b[0m\n\u001b[0;32m   1379\u001b[0m     \u001b[1;32mdef\u001b[0m \u001b[0m_return_server_session\u001b[0m\u001b[1;33m(\u001b[0m\u001b[0mself\u001b[0m\u001b[1;33m,\u001b[0m \u001b[0mserver_session\u001b[0m\u001b[1;33m,\u001b[0m \u001b[0mlock\u001b[0m\u001b[1;33m)\u001b[0m\u001b[1;33m:\u001b[0m\u001b[1;33m\u001b[0m\u001b[0m\n",
      "\u001b[1;32mC:\\Anaconda\\lib\\site-packages\\pymongo\\topology.py\u001b[0m in \u001b[0;36mget_server_session\u001b[1;34m(self)\u001b[0m\n\u001b[0;32m    414\u001b[0m                             \u001b[0many_server_selector\u001b[0m\u001b[1;33m,\u001b[0m\u001b[1;33m\u001b[0m\u001b[0m\n\u001b[0;32m    415\u001b[0m                             \u001b[0mself\u001b[0m\u001b[1;33m.\u001b[0m\u001b[0m_settings\u001b[0m\u001b[1;33m.\u001b[0m\u001b[0mserver_selection_timeout\u001b[0m\u001b[1;33m,\u001b[0m\u001b[1;33m\u001b[0m\u001b[0m\n\u001b[1;32m--> 416\u001b[1;33m                             None)\n\u001b[0m\u001b[0;32m    417\u001b[0m                 \u001b[1;32melif\u001b[0m \u001b[1;32mnot\u001b[0m \u001b[0mself\u001b[0m\u001b[1;33m.\u001b[0m\u001b[0m_description\u001b[0m\u001b[1;33m.\u001b[0m\u001b[0mreadable_servers\u001b[0m\u001b[1;33m:\u001b[0m\u001b[1;33m\u001b[0m\u001b[0m\n\u001b[0;32m    418\u001b[0m                     self._select_servers_loop(\n",
      "\u001b[1;32mC:\\Anaconda\\lib\\site-packages\\pymongo\\topology.py\u001b[0m in \u001b[0;36m_select_servers_loop\u001b[1;34m(self, selector, timeout, address)\u001b[0m\n\u001b[0;32m    197\u001b[0m             \u001b[1;32mif\u001b[0m \u001b[0mtimeout\u001b[0m \u001b[1;33m==\u001b[0m \u001b[1;36m0\u001b[0m \u001b[1;32mor\u001b[0m \u001b[0mnow\u001b[0m \u001b[1;33m>\u001b[0m \u001b[0mend_time\u001b[0m\u001b[1;33m:\u001b[0m\u001b[1;33m\u001b[0m\u001b[0m\n\u001b[0;32m    198\u001b[0m                 raise ServerSelectionTimeoutError(\n\u001b[1;32m--> 199\u001b[1;33m                     self._error_message(selector))\n\u001b[0m\u001b[0;32m    200\u001b[0m \u001b[1;33m\u001b[0m\u001b[0m\n\u001b[0;32m    201\u001b[0m             \u001b[0mself\u001b[0m\u001b[1;33m.\u001b[0m\u001b[0m_ensure_opened\u001b[0m\u001b[1;33m(\u001b[0m\u001b[1;33m)\u001b[0m\u001b[1;33m\u001b[0m\u001b[0m\n",
      "\u001b[1;31mServerSelectionTimeoutError\u001b[0m: connection closed"
     ]
    }
   ],
   "source": [
    "coll.find_one()   #Now actually attempts the database query, because while creating the client we left the default as connect=False"
   ]
  },
  {
   "cell_type": "code",
   "execution_count": null,
   "metadata": {},
   "outputs": [],
   "source": []
  }
 ],
 "metadata": {
  "kernelspec": {
   "display_name": "Python 3",
   "language": "python",
   "name": "python3"
  },
  "language_info": {
   "codemirror_mode": {
    "name": "ipython",
    "version": 3
   },
   "file_extension": ".py",
   "mimetype": "text/x-python",
   "name": "python",
   "nbconvert_exporter": "python",
   "pygments_lexer": "ipython3",
   "version": "3.6.3"
  }
 },
 "nbformat": 4,
 "nbformat_minor": 2
}

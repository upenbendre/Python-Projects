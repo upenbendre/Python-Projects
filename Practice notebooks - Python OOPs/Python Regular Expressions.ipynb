{
 "cells": [
  {
   "cell_type": "code",
   "execution_count": 1,
   "metadata": {},
   "outputs": [
    {
     "ename": "SyntaxError",
     "evalue": "unexpected character after line continuation character (<ipython-input-1-3e98bc4754c0>, line 13)",
     "output_type": "error",
     "traceback": [
      "\u001b[1;36m  File \u001b[1;32m\"<ipython-input-1-3e98bc4754c0>\"\u001b[1;36m, line \u001b[1;32m13\u001b[0m\n\u001b[1;33m    \\d\\d\\d.\\d\\d\\d.\\d\\d\\d\\d\u001b[0m\n\u001b[1;37m                          ^\u001b[0m\n\u001b[1;31mSyntaxError\u001b[0m\u001b[1;31m:\u001b[0m unexpected character after line continuation character\n"
     ]
    }
   ],
   "source": [
    "\"\"\"\n",
    "import re\n",
    "#Regular expressions are metacharacter expressions that allow us to search and replace a text pattern\n",
    "\n",
    "# A .(dot) indicates searching for anything\n",
    "# To search for a . itself, you should use a \\ i.e. look for \\.\n",
    "# Various metacharacters useful in processing regular expressions are .[{()\\^$|?*+\n",
    "# To search for a \\ also , search for \\\\\n",
    "\n",
    "# Full documentation at https://docs.python.org/2/library/re.html at 7.2.1. Regular Expression Syntax\n",
    "\n",
    "#3 digits in a row followed by, any character, followed by 3 digits, followed by any char, followed by 4 digits.\n",
    "# This will look for any phone number like 234-453-3456, 454_765_2534\n",
    "\\d\\d\\d.\\d\\d\\d.\\d\\d\\d\\d\n",
    "\n",
    "# Phone number with dash or dot only. Use character set in [] with - and . in it only\n",
    "# Inside character set, you don't need to replace \n",
    "\\d\\d\\d[-.]\\d\\d\\d[-.]\\d\\d\\d\\d\n",
    "\n",
    "# Look for numbers starting from 8 or 9, and are 800 or 900 numbers. [charset is a placeholder for one character]\n",
    "[89]00[-.]\\d\\d\\d[-.]\\d\\d\\d\\d\n",
    "\n",
    "[^a-z] #finds everything thats not a lower case letter\n",
    "#^ is a negation search\n",
    "\n",
    "# Quantifiers to match more than one character\n",
    "\\d\\d\\d.\\d\\d\\d.\\d\\d\\d\\d\n",
    "\\d{3}.\\d{3}.\\d{4} # is same as above\n",
    "\n",
    "# * to look for 0 or more characters, + for 1 or more and ? for 0 or 1\n",
    "\n",
    "# Looks for Mr. somename with first character of the name as capital\n",
    "Mr\\.?\\s[A-Z]\\w*\n",
    "\n",
    "# Looking for Mr, Ms, Mrs everything using a group using ()\n",
    "M(r|s|rs)\\.?\\s[A-Z]w*\n",
    "\n",
    "# \\s is to look for space\n",
    "# .? means that you look for a . or nothing. ? is for 0 or 1, i.e. optional\n",
    "\n",
    "#email address regular expression - typical but not ideal\n",
    "[a-zA-Z0-9.-]+@[a-zA-Z-]+\\.(com|edu|net)\n",
    "\"\"\"\n",
    "\n"
   ]
  },
  {
   "cell_type": "code",
   "execution_count": 1,
   "metadata": {},
   "outputs": [],
   "source": [
    "import re"
   ]
  },
  {
   "cell_type": "code",
   "execution_count": 12,
   "metadata": {},
   "outputs": [
    {
     "name": "stdout",
     "output_type": "stream",
     "text": [
      "['%20-%20']\n",
      "['88', '88', '20', '20', '20', '20', '20', '20']\n"
     ]
    }
   ],
   "source": [
    "string = 'http://localhost:8888/notebooks/Practice%20notebooks%20-%20Python%20OOPs/Python%20Regular%20Expressions.ipynb'\n",
    "f = re.findall('\\%20.\\%20', string)\n",
    "f1 = re.findall('\\d{2}', string)\n",
    "print(f)\n",
    "print(f1)"
   ]
  },
  {
   "cell_type": "code",
   "execution_count": 13,
   "metadata": {},
   "outputs": [],
   "source": [
    "import time\n",
    "import datetime\n",
    "import calendar"
   ]
  },
  {
   "cell_type": "code",
   "execution_count": 17,
   "metadata": {},
   "outputs": [
    {
     "ename": "TypeError",
     "evalue": "'_localized_day' object is not callable",
     "output_type": "error",
     "traceback": [
      "\u001b[1;31m---------------------------------------------------------------------------\u001b[0m",
      "\u001b[1;31mTypeError\u001b[0m                                 Traceback (most recent call last)",
      "\u001b[1;32m<ipython-input-17-ca0559b3131b>\u001b[0m in \u001b[0;36m<module>\u001b[1;34m()\u001b[0m\n\u001b[1;32m----> 1\u001b[1;33m \u001b[0mcalendar\u001b[0m\u001b[1;33m.\u001b[0m\u001b[0mday_name\u001b[0m\u001b[1;33m(\u001b[0m\u001b[1;33m)\u001b[0m\u001b[1;33m\u001b[0m\u001b[0m\n\u001b[0m",
      "\u001b[1;31mTypeError\u001b[0m: '_localized_day' object is not callable"
     ]
    }
   ],
   "source": [
    "calendar."
   ]
  },
  {
   "cell_type": "code",
   "execution_count": null,
   "metadata": {},
   "outputs": [],
   "source": []
  }
 ],
 "metadata": {
  "kernelspec": {
   "display_name": "Python 3",
   "language": "python",
   "name": "python3"
  },
  "language_info": {
   "codemirror_mode": {
    "name": "ipython",
    "version": 3
   },
   "file_extension": ".py",
   "mimetype": "text/x-python",
   "name": "python",
   "nbconvert_exporter": "python",
   "pygments_lexer": "ipython3",
   "version": "3.6.3"
  }
 },
 "nbformat": 4,
 "nbformat_minor": 2
}
